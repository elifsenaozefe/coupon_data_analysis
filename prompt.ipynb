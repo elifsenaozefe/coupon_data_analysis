{
 "cells": [
  {
   "cell_type": "markdown",
   "metadata": {},
   "source": [
    "### Will a Customer Accept the Coupon?\n",
    "\n",
    "**Context**\n",
    "\n",
    "Imagine driving through town and a coupon is delivered to your cell phone for a restaraunt near where you are driving. Would you accept that coupon and take a short detour to the restaraunt? Would you accept the coupon but use it on a sunbsequent trip? Would you ignore the coupon entirely? What if the coupon was for a bar instead of a restaraunt? What about a coffee house? Would you accept a bar coupon with a minor passenger in the car? What about if it was just you and your partner in the car? Would weather impact the rate of acceptance? What about the time of day?\n",
    "\n",
    "Obviously, proximity to the business is a factor on whether the coupon is delivered to the driver or not, but what are the factors that determine whether a driver accepts the coupon once it is delivered to them? How would you determine whether a driver is likely to accept a coupon?\n",
    "\n",
    "**Overview**\n",
    "\n",
    "The goal of this project is to use what you know about visualizations and probability distributions to distinguish between customers who accepted a driving coupon versus those that did not.\n",
    "\n",
    "**Data**\n",
    "\n",
    "This data comes to us from the UCI Machine Learning repository and was collected via a survey on Amazon Mechanical Turk. The survey describes different driving scenarios including the destination, current time, weather, passenger, etc., and then ask the person whether he will accept the coupon if he is the driver. Answers that the user will drive there ‘right away’ or ‘later before the coupon expires’ are labeled as ‘Y = 1’ and answers ‘no, I do not want the coupon’ are labeled as ‘Y = 0’.  There are five different types of coupons -- less expensive restaurants (under \\\\$20), coffee houses, carry out & take away, bar, and more expensive restaurants (\\\\$20 - \\\\$50). "
   ]
  },
  {
   "cell_type": "markdown",
   "metadata": {},
   "source": [
    "**Deliverables**\n",
    "\n",
    "Your final product should be a brief report that highlights the differences between customers who did and did not accept the coupons.  To explore the data you will utilize your knowledge of plotting, statistical summaries, and visualization using Python. You will publish your findings in a public facing github repository as your first portfolio piece. \n",
    "\n",
    "\n",
    "\n"
   ]
  },
  {
   "cell_type": "markdown",
   "metadata": {},
   "source": [
    "### Data Description\n",
    "\n",
    "The attributes of this data set include:\n",
    "1. User attributes\n",
    "    -  Gender: male, female\n",
    "    -  Age: below 21, 21 to 25, 26 to 30, etc.\n",
    "    -  Marital Status: single, married partner, unmarried partner, or widowed\n",
    "    -  Number of children: 0, 1, or more than 1\n",
    "    -  Education: high school, bachelors degree, associates degree, or graduate degree\n",
    "    -  Occupation: architecture & engineering, business & financial, etc.\n",
    "    -  Annual income: less than \\\\$12500, \\\\$12500 - \\\\$24999, \\\\$25000 - \\\\$37499, etc.\n",
    "    -  Number of times that he/she goes to a bar: 0, less than 1, 1 to 3, 4 to 8 or greater than 8\n",
    "    -  Number of times that he/she buys takeaway food: 0, less than 1, 1 to 3, 4 to 8 or greater\n",
    "    than 8\n",
    "    -  Number of times that he/she goes to a coffee house: 0, less than 1, 1 to 3, 4 to 8 or\n",
    "    greater than 8\n",
    "    -  Number of times that he/she eats at a restaurant with average expense less than \\\\$20 per\n",
    "    person: 0, less than 1, 1 to 3, 4 to 8 or greater than 8\n",
    "    -  Number of times that he/she goes to a bar: 0, less than 1, 1 to 3, 4 to 8 or greater than 8\n",
    "    \n",
    "\n",
    "2. Contextual attributes\n",
    "    - Driving destination: home, work, or no urgent destination\n",
    "    - Location of user, coupon and destination: we provide a map to show the geographical\n",
    "    location of the user, destination, and the venue, and we mark the distance between each\n",
    "    two places with time of driving. The user can see whether the venue is in the same\n",
    "    direction as the destination.\n",
    "    - Weather: sunny, rainy, or snowy\n",
    "    - Temperature: 30F, 55F, or 80F\n",
    "    - Time: 10AM, 2PM, or 6PM\n",
    "    - Passenger: alone, partner, kid(s), or friend(s)\n",
    "\n",
    "\n",
    "3. Coupon attributes\n",
    "    - time before it expires: 2 hours or one day"
   ]
  },
  {
   "cell_type": "code",
   "execution_count": 1,
   "metadata": {},
   "outputs": [],
   "source": [
    "import matplotlib.pyplot as plt\n",
    "import seaborn as sns\n",
    "import pandas as pd\n",
    "import numpy as np\n",
    "\n",
    "pd.set_option('display.max_columns', None)"
   ]
  },
  {
   "cell_type": "markdown",
   "metadata": {},
   "source": [
    "### Problems\n",
    "\n",
    "Use the prompts below to get started with your data analysis.  \n",
    "\n",
    "1. Read in the `coupons.csv` file.\n",
    "\n",
    "\n"
   ]
  },
  {
   "cell_type": "code",
   "execution_count": 2,
   "metadata": {},
   "outputs": [],
   "source": [
    "data = pd.read_csv('data/coupons.csv')"
   ]
  },
  {
   "cell_type": "code",
   "execution_count": 3,
   "metadata": {},
   "outputs": [
    {
     "data": {
      "text/html": [
       "<div>\n",
       "<style scoped>\n",
       "    .dataframe tbody tr th:only-of-type {\n",
       "        vertical-align: middle;\n",
       "    }\n",
       "\n",
       "    .dataframe tbody tr th {\n",
       "        vertical-align: top;\n",
       "    }\n",
       "\n",
       "    .dataframe thead th {\n",
       "        text-align: right;\n",
       "    }\n",
       "</style>\n",
       "<table border=\"1\" class=\"dataframe\">\n",
       "  <thead>\n",
       "    <tr style=\"text-align: right;\">\n",
       "      <th></th>\n",
       "      <th>destination</th>\n",
       "      <th>passanger</th>\n",
       "      <th>weather</th>\n",
       "      <th>temperature</th>\n",
       "      <th>time</th>\n",
       "      <th>coupon</th>\n",
       "      <th>expiration</th>\n",
       "      <th>gender</th>\n",
       "      <th>age</th>\n",
       "      <th>maritalStatus</th>\n",
       "      <th>has_children</th>\n",
       "      <th>education</th>\n",
       "      <th>occupation</th>\n",
       "      <th>income</th>\n",
       "      <th>car</th>\n",
       "      <th>Bar</th>\n",
       "      <th>CoffeeHouse</th>\n",
       "      <th>CarryAway</th>\n",
       "      <th>RestaurantLessThan20</th>\n",
       "      <th>Restaurant20To50</th>\n",
       "      <th>toCoupon_GEQ5min</th>\n",
       "      <th>toCoupon_GEQ15min</th>\n",
       "      <th>toCoupon_GEQ25min</th>\n",
       "      <th>direction_same</th>\n",
       "      <th>direction_opp</th>\n",
       "      <th>Y</th>\n",
       "    </tr>\n",
       "  </thead>\n",
       "  <tbody>\n",
       "    <tr>\n",
       "      <th>0</th>\n",
       "      <td>No Urgent Place</td>\n",
       "      <td>Alone</td>\n",
       "      <td>Sunny</td>\n",
       "      <td>55</td>\n",
       "      <td>2PM</td>\n",
       "      <td>Restaurant(&lt;20)</td>\n",
       "      <td>1d</td>\n",
       "      <td>Female</td>\n",
       "      <td>21</td>\n",
       "      <td>Unmarried partner</td>\n",
       "      <td>1</td>\n",
       "      <td>Some college - no degree</td>\n",
       "      <td>Unemployed</td>\n",
       "      <td>$37500 - $49999</td>\n",
       "      <td>NaN</td>\n",
       "      <td>never</td>\n",
       "      <td>never</td>\n",
       "      <td>NaN</td>\n",
       "      <td>4~8</td>\n",
       "      <td>1~3</td>\n",
       "      <td>1</td>\n",
       "      <td>0</td>\n",
       "      <td>0</td>\n",
       "      <td>0</td>\n",
       "      <td>1</td>\n",
       "      <td>1</td>\n",
       "    </tr>\n",
       "    <tr>\n",
       "      <th>1</th>\n",
       "      <td>No Urgent Place</td>\n",
       "      <td>Friend(s)</td>\n",
       "      <td>Sunny</td>\n",
       "      <td>80</td>\n",
       "      <td>10AM</td>\n",
       "      <td>Coffee House</td>\n",
       "      <td>2h</td>\n",
       "      <td>Female</td>\n",
       "      <td>21</td>\n",
       "      <td>Unmarried partner</td>\n",
       "      <td>1</td>\n",
       "      <td>Some college - no degree</td>\n",
       "      <td>Unemployed</td>\n",
       "      <td>$37500 - $49999</td>\n",
       "      <td>NaN</td>\n",
       "      <td>never</td>\n",
       "      <td>never</td>\n",
       "      <td>NaN</td>\n",
       "      <td>4~8</td>\n",
       "      <td>1~3</td>\n",
       "      <td>1</td>\n",
       "      <td>0</td>\n",
       "      <td>0</td>\n",
       "      <td>0</td>\n",
       "      <td>1</td>\n",
       "      <td>0</td>\n",
       "    </tr>\n",
       "    <tr>\n",
       "      <th>2</th>\n",
       "      <td>No Urgent Place</td>\n",
       "      <td>Friend(s)</td>\n",
       "      <td>Sunny</td>\n",
       "      <td>80</td>\n",
       "      <td>10AM</td>\n",
       "      <td>Carry out &amp; Take away</td>\n",
       "      <td>2h</td>\n",
       "      <td>Female</td>\n",
       "      <td>21</td>\n",
       "      <td>Unmarried partner</td>\n",
       "      <td>1</td>\n",
       "      <td>Some college - no degree</td>\n",
       "      <td>Unemployed</td>\n",
       "      <td>$37500 - $49999</td>\n",
       "      <td>NaN</td>\n",
       "      <td>never</td>\n",
       "      <td>never</td>\n",
       "      <td>NaN</td>\n",
       "      <td>4~8</td>\n",
       "      <td>1~3</td>\n",
       "      <td>1</td>\n",
       "      <td>1</td>\n",
       "      <td>0</td>\n",
       "      <td>0</td>\n",
       "      <td>1</td>\n",
       "      <td>1</td>\n",
       "    </tr>\n",
       "    <tr>\n",
       "      <th>3</th>\n",
       "      <td>No Urgent Place</td>\n",
       "      <td>Friend(s)</td>\n",
       "      <td>Sunny</td>\n",
       "      <td>80</td>\n",
       "      <td>2PM</td>\n",
       "      <td>Coffee House</td>\n",
       "      <td>2h</td>\n",
       "      <td>Female</td>\n",
       "      <td>21</td>\n",
       "      <td>Unmarried partner</td>\n",
       "      <td>1</td>\n",
       "      <td>Some college - no degree</td>\n",
       "      <td>Unemployed</td>\n",
       "      <td>$37500 - $49999</td>\n",
       "      <td>NaN</td>\n",
       "      <td>never</td>\n",
       "      <td>never</td>\n",
       "      <td>NaN</td>\n",
       "      <td>4~8</td>\n",
       "      <td>1~3</td>\n",
       "      <td>1</td>\n",
       "      <td>1</td>\n",
       "      <td>0</td>\n",
       "      <td>0</td>\n",
       "      <td>1</td>\n",
       "      <td>0</td>\n",
       "    </tr>\n",
       "    <tr>\n",
       "      <th>4</th>\n",
       "      <td>No Urgent Place</td>\n",
       "      <td>Friend(s)</td>\n",
       "      <td>Sunny</td>\n",
       "      <td>80</td>\n",
       "      <td>2PM</td>\n",
       "      <td>Coffee House</td>\n",
       "      <td>1d</td>\n",
       "      <td>Female</td>\n",
       "      <td>21</td>\n",
       "      <td>Unmarried partner</td>\n",
       "      <td>1</td>\n",
       "      <td>Some college - no degree</td>\n",
       "      <td>Unemployed</td>\n",
       "      <td>$37500 - $49999</td>\n",
       "      <td>NaN</td>\n",
       "      <td>never</td>\n",
       "      <td>never</td>\n",
       "      <td>NaN</td>\n",
       "      <td>4~8</td>\n",
       "      <td>1~3</td>\n",
       "      <td>1</td>\n",
       "      <td>1</td>\n",
       "      <td>0</td>\n",
       "      <td>0</td>\n",
       "      <td>1</td>\n",
       "      <td>0</td>\n",
       "    </tr>\n",
       "  </tbody>\n",
       "</table>\n",
       "</div>"
      ],
      "text/plain": [
       "       destination  passanger weather  temperature  time  \\\n",
       "0  No Urgent Place      Alone   Sunny           55   2PM   \n",
       "1  No Urgent Place  Friend(s)   Sunny           80  10AM   \n",
       "2  No Urgent Place  Friend(s)   Sunny           80  10AM   \n",
       "3  No Urgent Place  Friend(s)   Sunny           80   2PM   \n",
       "4  No Urgent Place  Friend(s)   Sunny           80   2PM   \n",
       "\n",
       "                  coupon expiration  gender age      maritalStatus  \\\n",
       "0        Restaurant(<20)         1d  Female  21  Unmarried partner   \n",
       "1           Coffee House         2h  Female  21  Unmarried partner   \n",
       "2  Carry out & Take away         2h  Female  21  Unmarried partner   \n",
       "3           Coffee House         2h  Female  21  Unmarried partner   \n",
       "4           Coffee House         1d  Female  21  Unmarried partner   \n",
       "\n",
       "   has_children                 education  occupation           income  car  \\\n",
       "0             1  Some college - no degree  Unemployed  $37500 - $49999  NaN   \n",
       "1             1  Some college - no degree  Unemployed  $37500 - $49999  NaN   \n",
       "2             1  Some college - no degree  Unemployed  $37500 - $49999  NaN   \n",
       "3             1  Some college - no degree  Unemployed  $37500 - $49999  NaN   \n",
       "4             1  Some college - no degree  Unemployed  $37500 - $49999  NaN   \n",
       "\n",
       "     Bar CoffeeHouse CarryAway RestaurantLessThan20 Restaurant20To50  \\\n",
       "0  never       never       NaN                  4~8              1~3   \n",
       "1  never       never       NaN                  4~8              1~3   \n",
       "2  never       never       NaN                  4~8              1~3   \n",
       "3  never       never       NaN                  4~8              1~3   \n",
       "4  never       never       NaN                  4~8              1~3   \n",
       "\n",
       "   toCoupon_GEQ5min  toCoupon_GEQ15min  toCoupon_GEQ25min  direction_same  \\\n",
       "0                 1                  0                  0               0   \n",
       "1                 1                  0                  0               0   \n",
       "2                 1                  1                  0               0   \n",
       "3                 1                  1                  0               0   \n",
       "4                 1                  1                  0               0   \n",
       "\n",
       "   direction_opp  Y  \n",
       "0              1  1  \n",
       "1              1  0  \n",
       "2              1  1  \n",
       "3              1  0  \n",
       "4              1  0  "
      ]
     },
     "execution_count": 3,
     "metadata": {},
     "output_type": "execute_result"
    }
   ],
   "source": [
    "data.head()"
   ]
  },
  {
   "cell_type": "markdown",
   "metadata": {},
   "source": [
    "2. Investigate the dataset for missing or problematic data."
   ]
  },
  {
   "cell_type": "code",
   "execution_count": 4,
   "metadata": {
    "scrolled": true
   },
   "outputs": [
    {
     "data": {
      "text/plain": [
       "destination                 0\n",
       "passanger                   0\n",
       "weather                     0\n",
       "temperature                 0\n",
       "time                        0\n",
       "coupon                      0\n",
       "expiration                  0\n",
       "gender                      0\n",
       "age                         0\n",
       "maritalStatus               0\n",
       "has_children                0\n",
       "education                   0\n",
       "occupation                  0\n",
       "income                      0\n",
       "car                     12576\n",
       "Bar                       107\n",
       "CoffeeHouse               217\n",
       "CarryAway                 151\n",
       "RestaurantLessThan20      130\n",
       "Restaurant20To50          189\n",
       "toCoupon_GEQ5min            0\n",
       "toCoupon_GEQ15min           0\n",
       "toCoupon_GEQ25min           0\n",
       "direction_same              0\n",
       "direction_opp               0\n",
       "Y                           0\n",
       "dtype: int64"
      ]
     },
     "execution_count": 4,
     "metadata": {},
     "output_type": "execute_result"
    }
   ],
   "source": [
    "data.isna().sum()"
   ]
  },
  {
   "cell_type": "code",
   "execution_count": 5,
   "metadata": {},
   "outputs": [
    {
     "data": {
      "text/plain": [
       "(108, 26)"
      ]
     },
     "execution_count": 5,
     "metadata": {},
     "output_type": "execute_result"
    }
   ],
   "source": [
    "data[data.car.notna()].shape"
   ]
  },
  {
   "cell_type": "code",
   "execution_count": 6,
   "metadata": {},
   "outputs": [
    {
     "data": {
      "text/plain": [
       "never    5197\n",
       "less1    3482\n",
       "1~3      2473\n",
       "4~8      1076\n",
       "gt8       349\n",
       "Name: Bar, dtype: int64"
      ]
     },
     "execution_count": 6,
     "metadata": {},
     "output_type": "execute_result"
    }
   ],
   "source": [
    "data.Bar.value_counts()"
   ]
  },
  {
   "cell_type": "code",
   "execution_count": 7,
   "metadata": {},
   "outputs": [
    {
     "data": {
      "text/plain": [
       "less1    3385\n",
       "1~3      3225\n",
       "never    2962\n",
       "4~8      1784\n",
       "gt8      1111\n",
       "Name: CoffeeHouse, dtype: int64"
      ]
     },
     "execution_count": 7,
     "metadata": {},
     "output_type": "execute_result"
    }
   ],
   "source": [
    "data.CoffeeHouse.value_counts()"
   ]
  },
  {
   "cell_type": "code",
   "execution_count": 8,
   "metadata": {},
   "outputs": [
    {
     "data": {
      "text/plain": [
       "1~3      4672\n",
       "4~8      4258\n",
       "less1    1856\n",
       "gt8      1594\n",
       "never     153\n",
       "Name: CarryAway, dtype: int64"
      ]
     },
     "execution_count": 8,
     "metadata": {},
     "output_type": "execute_result"
    }
   ],
   "source": [
    "data.CarryAway.value_counts()"
   ]
  },
  {
   "cell_type": "code",
   "execution_count": 9,
   "metadata": {},
   "outputs": [
    {
     "data": {
      "text/plain": [
       "1~3      5376\n",
       "4~8      3580\n",
       "less1    2093\n",
       "gt8      1285\n",
       "never     220\n",
       "Name: RestaurantLessThan20, dtype: int64"
      ]
     },
     "execution_count": 9,
     "metadata": {},
     "output_type": "execute_result"
    }
   ],
   "source": [
    "data.RestaurantLessThan20.value_counts()"
   ]
  },
  {
   "cell_type": "code",
   "execution_count": 10,
   "metadata": {},
   "outputs": [
    {
     "data": {
      "text/plain": [
       "less1    6077\n",
       "1~3      3290\n",
       "never    2136\n",
       "4~8       728\n",
       "gt8       264\n",
       "Name: Restaurant20To50, dtype: int64"
      ]
     },
     "execution_count": 10,
     "metadata": {},
     "output_type": "execute_result"
    }
   ],
   "source": [
    "data.Restaurant20To50.value_counts()"
   ]
  },
  {
   "cell_type": "code",
   "execution_count": 11,
   "metadata": {},
   "outputs": [
    {
     "data": {
      "text/html": [
       "<div>\n",
       "<style scoped>\n",
       "    .dataframe tbody tr th:only-of-type {\n",
       "        vertical-align: middle;\n",
       "    }\n",
       "\n",
       "    .dataframe tbody tr th {\n",
       "        vertical-align: top;\n",
       "    }\n",
       "\n",
       "    .dataframe thead th {\n",
       "        text-align: right;\n",
       "    }\n",
       "</style>\n",
       "<table border=\"1\" class=\"dataframe\">\n",
       "  <thead>\n",
       "    <tr style=\"text-align: right;\">\n",
       "      <th></th>\n",
       "      <th>destination</th>\n",
       "      <th>passanger</th>\n",
       "      <th>weather</th>\n",
       "      <th>temperature</th>\n",
       "      <th>time</th>\n",
       "      <th>coupon</th>\n",
       "      <th>expiration</th>\n",
       "      <th>gender</th>\n",
       "      <th>age</th>\n",
       "      <th>maritalStatus</th>\n",
       "      <th>has_children</th>\n",
       "      <th>education</th>\n",
       "      <th>occupation</th>\n",
       "      <th>income</th>\n",
       "      <th>car</th>\n",
       "      <th>Bar</th>\n",
       "      <th>CoffeeHouse</th>\n",
       "      <th>CarryAway</th>\n",
       "      <th>RestaurantLessThan20</th>\n",
       "      <th>Restaurant20To50</th>\n",
       "      <th>toCoupon_GEQ5min</th>\n",
       "      <th>toCoupon_GEQ15min</th>\n",
       "      <th>toCoupon_GEQ25min</th>\n",
       "      <th>direction_same</th>\n",
       "      <th>direction_opp</th>\n",
       "      <th>Y</th>\n",
       "    </tr>\n",
       "  </thead>\n",
       "  <tbody>\n",
       "    <tr>\n",
       "      <th>count</th>\n",
       "      <td>12684</td>\n",
       "      <td>12684</td>\n",
       "      <td>12684</td>\n",
       "      <td>12684.000000</td>\n",
       "      <td>12684</td>\n",
       "      <td>12684</td>\n",
       "      <td>12684</td>\n",
       "      <td>12684</td>\n",
       "      <td>12684</td>\n",
       "      <td>12684</td>\n",
       "      <td>12684.000000</td>\n",
       "      <td>12684</td>\n",
       "      <td>12684</td>\n",
       "      <td>12684</td>\n",
       "      <td>108</td>\n",
       "      <td>12577</td>\n",
       "      <td>12467</td>\n",
       "      <td>12533</td>\n",
       "      <td>12554</td>\n",
       "      <td>12495</td>\n",
       "      <td>12684.0</td>\n",
       "      <td>12684.000000</td>\n",
       "      <td>12684.000000</td>\n",
       "      <td>12684.000000</td>\n",
       "      <td>12684.000000</td>\n",
       "      <td>12684.000000</td>\n",
       "    </tr>\n",
       "    <tr>\n",
       "      <th>unique</th>\n",
       "      <td>3</td>\n",
       "      <td>4</td>\n",
       "      <td>3</td>\n",
       "      <td>NaN</td>\n",
       "      <td>5</td>\n",
       "      <td>5</td>\n",
       "      <td>2</td>\n",
       "      <td>2</td>\n",
       "      <td>8</td>\n",
       "      <td>5</td>\n",
       "      <td>NaN</td>\n",
       "      <td>6</td>\n",
       "      <td>25</td>\n",
       "      <td>9</td>\n",
       "      <td>5</td>\n",
       "      <td>5</td>\n",
       "      <td>5</td>\n",
       "      <td>5</td>\n",
       "      <td>5</td>\n",
       "      <td>5</td>\n",
       "      <td>NaN</td>\n",
       "      <td>NaN</td>\n",
       "      <td>NaN</td>\n",
       "      <td>NaN</td>\n",
       "      <td>NaN</td>\n",
       "      <td>NaN</td>\n",
       "    </tr>\n",
       "    <tr>\n",
       "      <th>top</th>\n",
       "      <td>No Urgent Place</td>\n",
       "      <td>Alone</td>\n",
       "      <td>Sunny</td>\n",
       "      <td>NaN</td>\n",
       "      <td>6PM</td>\n",
       "      <td>Coffee House</td>\n",
       "      <td>1d</td>\n",
       "      <td>Female</td>\n",
       "      <td>21</td>\n",
       "      <td>Married partner</td>\n",
       "      <td>NaN</td>\n",
       "      <td>Some college - no degree</td>\n",
       "      <td>Unemployed</td>\n",
       "      <td>$25000 - $37499</td>\n",
       "      <td>Scooter and motorcycle</td>\n",
       "      <td>never</td>\n",
       "      <td>less1</td>\n",
       "      <td>1~3</td>\n",
       "      <td>1~3</td>\n",
       "      <td>less1</td>\n",
       "      <td>NaN</td>\n",
       "      <td>NaN</td>\n",
       "      <td>NaN</td>\n",
       "      <td>NaN</td>\n",
       "      <td>NaN</td>\n",
       "      <td>NaN</td>\n",
       "    </tr>\n",
       "    <tr>\n",
       "      <th>freq</th>\n",
       "      <td>6283</td>\n",
       "      <td>7305</td>\n",
       "      <td>10069</td>\n",
       "      <td>NaN</td>\n",
       "      <td>3230</td>\n",
       "      <td>3996</td>\n",
       "      <td>7091</td>\n",
       "      <td>6511</td>\n",
       "      <td>2653</td>\n",
       "      <td>5100</td>\n",
       "      <td>NaN</td>\n",
       "      <td>4351</td>\n",
       "      <td>1870</td>\n",
       "      <td>2013</td>\n",
       "      <td>22</td>\n",
       "      <td>5197</td>\n",
       "      <td>3385</td>\n",
       "      <td>4672</td>\n",
       "      <td>5376</td>\n",
       "      <td>6077</td>\n",
       "      <td>NaN</td>\n",
       "      <td>NaN</td>\n",
       "      <td>NaN</td>\n",
       "      <td>NaN</td>\n",
       "      <td>NaN</td>\n",
       "      <td>NaN</td>\n",
       "    </tr>\n",
       "    <tr>\n",
       "      <th>mean</th>\n",
       "      <td>NaN</td>\n",
       "      <td>NaN</td>\n",
       "      <td>NaN</td>\n",
       "      <td>63.301798</td>\n",
       "      <td>NaN</td>\n",
       "      <td>NaN</td>\n",
       "      <td>NaN</td>\n",
       "      <td>NaN</td>\n",
       "      <td>NaN</td>\n",
       "      <td>NaN</td>\n",
       "      <td>0.414144</td>\n",
       "      <td>NaN</td>\n",
       "      <td>NaN</td>\n",
       "      <td>NaN</td>\n",
       "      <td>NaN</td>\n",
       "      <td>NaN</td>\n",
       "      <td>NaN</td>\n",
       "      <td>NaN</td>\n",
       "      <td>NaN</td>\n",
       "      <td>NaN</td>\n",
       "      <td>1.0</td>\n",
       "      <td>0.561495</td>\n",
       "      <td>0.119126</td>\n",
       "      <td>0.214759</td>\n",
       "      <td>0.785241</td>\n",
       "      <td>0.568433</td>\n",
       "    </tr>\n",
       "    <tr>\n",
       "      <th>std</th>\n",
       "      <td>NaN</td>\n",
       "      <td>NaN</td>\n",
       "      <td>NaN</td>\n",
       "      <td>19.154486</td>\n",
       "      <td>NaN</td>\n",
       "      <td>NaN</td>\n",
       "      <td>NaN</td>\n",
       "      <td>NaN</td>\n",
       "      <td>NaN</td>\n",
       "      <td>NaN</td>\n",
       "      <td>0.492593</td>\n",
       "      <td>NaN</td>\n",
       "      <td>NaN</td>\n",
       "      <td>NaN</td>\n",
       "      <td>NaN</td>\n",
       "      <td>NaN</td>\n",
       "      <td>NaN</td>\n",
       "      <td>NaN</td>\n",
       "      <td>NaN</td>\n",
       "      <td>NaN</td>\n",
       "      <td>0.0</td>\n",
       "      <td>0.496224</td>\n",
       "      <td>0.323950</td>\n",
       "      <td>0.410671</td>\n",
       "      <td>0.410671</td>\n",
       "      <td>0.495314</td>\n",
       "    </tr>\n",
       "    <tr>\n",
       "      <th>min</th>\n",
       "      <td>NaN</td>\n",
       "      <td>NaN</td>\n",
       "      <td>NaN</td>\n",
       "      <td>30.000000</td>\n",
       "      <td>NaN</td>\n",
       "      <td>NaN</td>\n",
       "      <td>NaN</td>\n",
       "      <td>NaN</td>\n",
       "      <td>NaN</td>\n",
       "      <td>NaN</td>\n",
       "      <td>0.000000</td>\n",
       "      <td>NaN</td>\n",
       "      <td>NaN</td>\n",
       "      <td>NaN</td>\n",
       "      <td>NaN</td>\n",
       "      <td>NaN</td>\n",
       "      <td>NaN</td>\n",
       "      <td>NaN</td>\n",
       "      <td>NaN</td>\n",
       "      <td>NaN</td>\n",
       "      <td>1.0</td>\n",
       "      <td>0.000000</td>\n",
       "      <td>0.000000</td>\n",
       "      <td>0.000000</td>\n",
       "      <td>0.000000</td>\n",
       "      <td>0.000000</td>\n",
       "    </tr>\n",
       "    <tr>\n",
       "      <th>25%</th>\n",
       "      <td>NaN</td>\n",
       "      <td>NaN</td>\n",
       "      <td>NaN</td>\n",
       "      <td>55.000000</td>\n",
       "      <td>NaN</td>\n",
       "      <td>NaN</td>\n",
       "      <td>NaN</td>\n",
       "      <td>NaN</td>\n",
       "      <td>NaN</td>\n",
       "      <td>NaN</td>\n",
       "      <td>0.000000</td>\n",
       "      <td>NaN</td>\n",
       "      <td>NaN</td>\n",
       "      <td>NaN</td>\n",
       "      <td>NaN</td>\n",
       "      <td>NaN</td>\n",
       "      <td>NaN</td>\n",
       "      <td>NaN</td>\n",
       "      <td>NaN</td>\n",
       "      <td>NaN</td>\n",
       "      <td>1.0</td>\n",
       "      <td>0.000000</td>\n",
       "      <td>0.000000</td>\n",
       "      <td>0.000000</td>\n",
       "      <td>1.000000</td>\n",
       "      <td>0.000000</td>\n",
       "    </tr>\n",
       "    <tr>\n",
       "      <th>50%</th>\n",
       "      <td>NaN</td>\n",
       "      <td>NaN</td>\n",
       "      <td>NaN</td>\n",
       "      <td>80.000000</td>\n",
       "      <td>NaN</td>\n",
       "      <td>NaN</td>\n",
       "      <td>NaN</td>\n",
       "      <td>NaN</td>\n",
       "      <td>NaN</td>\n",
       "      <td>NaN</td>\n",
       "      <td>0.000000</td>\n",
       "      <td>NaN</td>\n",
       "      <td>NaN</td>\n",
       "      <td>NaN</td>\n",
       "      <td>NaN</td>\n",
       "      <td>NaN</td>\n",
       "      <td>NaN</td>\n",
       "      <td>NaN</td>\n",
       "      <td>NaN</td>\n",
       "      <td>NaN</td>\n",
       "      <td>1.0</td>\n",
       "      <td>1.000000</td>\n",
       "      <td>0.000000</td>\n",
       "      <td>0.000000</td>\n",
       "      <td>1.000000</td>\n",
       "      <td>1.000000</td>\n",
       "    </tr>\n",
       "    <tr>\n",
       "      <th>75%</th>\n",
       "      <td>NaN</td>\n",
       "      <td>NaN</td>\n",
       "      <td>NaN</td>\n",
       "      <td>80.000000</td>\n",
       "      <td>NaN</td>\n",
       "      <td>NaN</td>\n",
       "      <td>NaN</td>\n",
       "      <td>NaN</td>\n",
       "      <td>NaN</td>\n",
       "      <td>NaN</td>\n",
       "      <td>1.000000</td>\n",
       "      <td>NaN</td>\n",
       "      <td>NaN</td>\n",
       "      <td>NaN</td>\n",
       "      <td>NaN</td>\n",
       "      <td>NaN</td>\n",
       "      <td>NaN</td>\n",
       "      <td>NaN</td>\n",
       "      <td>NaN</td>\n",
       "      <td>NaN</td>\n",
       "      <td>1.0</td>\n",
       "      <td>1.000000</td>\n",
       "      <td>0.000000</td>\n",
       "      <td>0.000000</td>\n",
       "      <td>1.000000</td>\n",
       "      <td>1.000000</td>\n",
       "    </tr>\n",
       "    <tr>\n",
       "      <th>max</th>\n",
       "      <td>NaN</td>\n",
       "      <td>NaN</td>\n",
       "      <td>NaN</td>\n",
       "      <td>80.000000</td>\n",
       "      <td>NaN</td>\n",
       "      <td>NaN</td>\n",
       "      <td>NaN</td>\n",
       "      <td>NaN</td>\n",
       "      <td>NaN</td>\n",
       "      <td>NaN</td>\n",
       "      <td>1.000000</td>\n",
       "      <td>NaN</td>\n",
       "      <td>NaN</td>\n",
       "      <td>NaN</td>\n",
       "      <td>NaN</td>\n",
       "      <td>NaN</td>\n",
       "      <td>NaN</td>\n",
       "      <td>NaN</td>\n",
       "      <td>NaN</td>\n",
       "      <td>NaN</td>\n",
       "      <td>1.0</td>\n",
       "      <td>1.000000</td>\n",
       "      <td>1.000000</td>\n",
       "      <td>1.000000</td>\n",
       "      <td>1.000000</td>\n",
       "      <td>1.000000</td>\n",
       "    </tr>\n",
       "  </tbody>\n",
       "</table>\n",
       "</div>"
      ],
      "text/plain": [
       "            destination passanger weather   temperature   time        coupon  \\\n",
       "count             12684     12684   12684  12684.000000  12684         12684   \n",
       "unique                3         4       3           NaN      5             5   \n",
       "top     No Urgent Place     Alone   Sunny           NaN    6PM  Coffee House   \n",
       "freq               6283      7305   10069           NaN   3230          3996   \n",
       "mean                NaN       NaN     NaN     63.301798    NaN           NaN   \n",
       "std                 NaN       NaN     NaN     19.154486    NaN           NaN   \n",
       "min                 NaN       NaN     NaN     30.000000    NaN           NaN   \n",
       "25%                 NaN       NaN     NaN     55.000000    NaN           NaN   \n",
       "50%                 NaN       NaN     NaN     80.000000    NaN           NaN   \n",
       "75%                 NaN       NaN     NaN     80.000000    NaN           NaN   \n",
       "max                 NaN       NaN     NaN     80.000000    NaN           NaN   \n",
       "\n",
       "       expiration  gender    age    maritalStatus  has_children  \\\n",
       "count       12684   12684  12684            12684  12684.000000   \n",
       "unique          2       2      8                5           NaN   \n",
       "top            1d  Female     21  Married partner           NaN   \n",
       "freq         7091    6511   2653             5100           NaN   \n",
       "mean          NaN     NaN    NaN              NaN      0.414144   \n",
       "std           NaN     NaN    NaN              NaN      0.492593   \n",
       "min           NaN     NaN    NaN              NaN      0.000000   \n",
       "25%           NaN     NaN    NaN              NaN      0.000000   \n",
       "50%           NaN     NaN    NaN              NaN      0.000000   \n",
       "75%           NaN     NaN    NaN              NaN      1.000000   \n",
       "max           NaN     NaN    NaN              NaN      1.000000   \n",
       "\n",
       "                       education  occupation           income  \\\n",
       "count                      12684       12684            12684   \n",
       "unique                         6          25                9   \n",
       "top     Some college - no degree  Unemployed  $25000 - $37499   \n",
       "freq                        4351        1870             2013   \n",
       "mean                         NaN         NaN              NaN   \n",
       "std                          NaN         NaN              NaN   \n",
       "min                          NaN         NaN              NaN   \n",
       "25%                          NaN         NaN              NaN   \n",
       "50%                          NaN         NaN              NaN   \n",
       "75%                          NaN         NaN              NaN   \n",
       "max                          NaN         NaN              NaN   \n",
       "\n",
       "                           car    Bar CoffeeHouse CarryAway  \\\n",
       "count                      108  12577       12467     12533   \n",
       "unique                       5      5           5         5   \n",
       "top     Scooter and motorcycle  never       less1       1~3   \n",
       "freq                        22   5197        3385      4672   \n",
       "mean                       NaN    NaN         NaN       NaN   \n",
       "std                        NaN    NaN         NaN       NaN   \n",
       "min                        NaN    NaN         NaN       NaN   \n",
       "25%                        NaN    NaN         NaN       NaN   \n",
       "50%                        NaN    NaN         NaN       NaN   \n",
       "75%                        NaN    NaN         NaN       NaN   \n",
       "max                        NaN    NaN         NaN       NaN   \n",
       "\n",
       "       RestaurantLessThan20 Restaurant20To50  toCoupon_GEQ5min  \\\n",
       "count                 12554            12495           12684.0   \n",
       "unique                    5                5               NaN   \n",
       "top                     1~3            less1               NaN   \n",
       "freq                   5376             6077               NaN   \n",
       "mean                    NaN              NaN               1.0   \n",
       "std                     NaN              NaN               0.0   \n",
       "min                     NaN              NaN               1.0   \n",
       "25%                     NaN              NaN               1.0   \n",
       "50%                     NaN              NaN               1.0   \n",
       "75%                     NaN              NaN               1.0   \n",
       "max                     NaN              NaN               1.0   \n",
       "\n",
       "        toCoupon_GEQ15min  toCoupon_GEQ25min  direction_same  direction_opp  \\\n",
       "count        12684.000000       12684.000000    12684.000000   12684.000000   \n",
       "unique                NaN                NaN             NaN            NaN   \n",
       "top                   NaN                NaN             NaN            NaN   \n",
       "freq                  NaN                NaN             NaN            NaN   \n",
       "mean             0.561495           0.119126        0.214759       0.785241   \n",
       "std              0.496224           0.323950        0.410671       0.410671   \n",
       "min              0.000000           0.000000        0.000000       0.000000   \n",
       "25%              0.000000           0.000000        0.000000       1.000000   \n",
       "50%              1.000000           0.000000        0.000000       1.000000   \n",
       "75%              1.000000           0.000000        0.000000       1.000000   \n",
       "max              1.000000           1.000000        1.000000       1.000000   \n",
       "\n",
       "                   Y  \n",
       "count   12684.000000  \n",
       "unique           NaN  \n",
       "top              NaN  \n",
       "freq             NaN  \n",
       "mean        0.568433  \n",
       "std         0.495314  \n",
       "min         0.000000  \n",
       "25%         0.000000  \n",
       "50%         1.000000  \n",
       "75%         1.000000  \n",
       "max         1.000000  "
      ]
     },
     "execution_count": 11,
     "metadata": {},
     "output_type": "execute_result"
    }
   ],
   "source": [
    "data.describe(include = 'all')"
   ]
  },
  {
   "cell_type": "markdown",
   "metadata": {},
   "source": [
    "3. Decide what to do about your missing data -- drop, replace, other..."
   ]
  },
  {
   "cell_type": "code",
   "execution_count": 12,
   "metadata": {},
   "outputs": [],
   "source": [
    "# since only 108 rows has car value, drop the column\n",
    "data.drop(columns = ['car'], inplace = True)"
   ]
  },
  {
   "cell_type": "code",
   "execution_count": 13,
   "metadata": {},
   "outputs": [],
   "source": [
    "# since most of Bar column is \"never\", replace nas with it\n",
    "# also contextually, it makes sense to assume \"never\"\n",
    "data.Bar = data.Bar.fillna(\"never\")"
   ]
  },
  {
   "cell_type": "code",
   "execution_count": 14,
   "metadata": {},
   "outputs": [],
   "source": [
    "# assuming that if not specified then its \"never\"\n",
    "data.CoffeeHouse = data.CoffeeHouse.fillna(\"never\")\n",
    "data.CarryAway = data.CarryAway.fillna(\"never\")\n",
    "data.RestaurantLessThan20 = data.RestaurantLessThan20.fillna(\"never\")\n",
    "data.Restaurant20To50 = data.Restaurant20To50.fillna(\"never\")"
   ]
  },
  {
   "cell_type": "code",
   "execution_count": 15,
   "metadata": {},
   "outputs": [],
   "source": [
    "# since the column doesn't differ;\n",
    "data = data.drop(columns = ['toCoupon_GEQ5min'])"
   ]
  },
  {
   "cell_type": "markdown",
   "metadata": {},
   "source": [
    "4. What proportion of the total observations chose to accept the coupon? \n",
    "\n"
   ]
  },
  {
   "cell_type": "code",
   "execution_count": 16,
   "metadata": {},
   "outputs": [
    {
     "data": {
      "text/plain": [
       "1    0.568433\n",
       "0    0.431567\n",
       "Name: Y, dtype: float64"
      ]
     },
     "execution_count": 16,
     "metadata": {},
     "output_type": "execute_result"
    }
   ],
   "source": [
    "data.Y.value_counts() / data.shape[0]\n",
    "# 56% of the data accept the coupon"
   ]
  },
  {
   "cell_type": "markdown",
   "metadata": {},
   "source": [
    "5. Use a bar plot to visualize the `coupon` column."
   ]
  },
  {
   "cell_type": "code",
   "execution_count": 17,
   "metadata": {},
   "outputs": [
    {
     "data": {
      "image/png": "[encoded data removed]",
      "text/plain": [
       "<Figure size 432x288 with 1 Axes>"
      ]
     },
     "metadata": {
      "needs_background": "light"
     },
     "output_type": "display_data"
    }
   ],
   "source": [
    "coupon_counts = pd.DataFrame(data.coupon.value_counts())\n",
    "plt.bar(coupon_counts.index, coupon_counts.coupon, color =\"orange\", width = 0.5)\n",
    " \n",
    "plt.xlabel(\"Coupon Type\")\n",
    "plt.xticks(rotation = 25)\n",
    "plt.ylabel(\"Count\")\n",
    "plt.title(\"Counts of Coupon Types\")\n",
    "plt.show()"
   ]
  },
  {
   "cell_type": "markdown",
   "metadata": {},
   "source": [
    "6. Use a histogram to visualize the temperature column."
   ]
  },
  {
   "cell_type": "code",
   "execution_count": 18,
   "metadata": {
    "scrolled": true
   },
   "outputs": [
    {
     "data": {
      "text/plain": [
       "<AxesSubplot:xlabel='temperature', ylabel='Count'>"
      ]
     },
     "execution_count": 18,
     "metadata": {},
     "output_type": "execute_result"
    },
    {
     "data": {
      "image/png": "[encoded data removed]",
      "text/plain": [
       "<Figure size 432x288 with 1 Axes>"
      ]
     },
     "metadata": {
      "needs_background": "light"
     },
     "output_type": "display_data"
    }
   ],
   "source": [
    "sns.histplot(data, x=\"temperature\")"
   ]
  },
  {
   "cell_type": "markdown",
   "metadata": {},
   "source": [
    "**Investigating the Bar Coupons**\n",
    "\n",
    "Now, we will lead you through an exploration of just the bar related coupons.  \n",
    "\n",
    "1. Create a new `DataFrame` that contains just the bar coupons.\n"
   ]
  },
  {
   "cell_type": "code",
   "execution_count": 19,
   "metadata": {},
   "outputs": [
    {
     "data": {
      "text/plain": [
       "(2017, 24)"
      ]
     },
     "execution_count": 19,
     "metadata": {},
     "output_type": "execute_result"
    }
   ],
   "source": [
    "bar_coupons = data[data.coupon == 'Bar']\n",
    "bar_coupons.shape"
   ]
  },
  {
   "cell_type": "markdown",
   "metadata": {},
   "source": [
    "2. What proportion of bar coupons were accepted?\n"
   ]
  },
  {
   "cell_type": "code",
   "execution_count": 20,
   "metadata": {},
   "outputs": [
    {
     "data": {
      "text/plain": [
       "0    0.589985\n",
       "1    0.410015\n",
       "Name: Y, dtype: float64"
      ]
     },
     "execution_count": 20,
     "metadata": {},
     "output_type": "execute_result"
    }
   ],
   "source": [
    "bar_coupons.Y.value_counts() / bar_coupons.shape[0]\n",
    "# 58% of the data accept the coupon"
   ]
  },
  {
   "cell_type": "markdown",
   "metadata": {},
   "source": [
    "3. Compare the acceptance rate between those who went to a bar 3 or fewer times a month to those who went more.\n"
   ]
  },
  {
   "cell_type": "code",
   "execution_count": 21,
   "metadata": {},
   "outputs": [
    {
     "data": {
      "text/plain": [
       "0    0.629263\n",
       "1    0.370737\n",
       "Name: Y, dtype: float64"
      ]
     },
     "execution_count": 21,
     "metadata": {},
     "output_type": "execute_result"
    }
   ],
   "source": [
    "t1 = bar_coupons[(bar_coupons.Bar == \"1~3\") | (bar_coupons.Bar == \"less1\") | (bar_coupons.Bar == \"never\")]\n",
    "t1.Y.value_counts() / t1.shape[0]\n",
    "# those who went to a bar 3 or fewer times a month accepts bar coupons 37%"
   ]
  },
  {
   "cell_type": "code",
   "execution_count": 22,
   "metadata": {},
   "outputs": [
    {
     "data": {
      "text/plain": [
       "1    0.768844\n",
       "0    0.231156\n",
       "Name: Y, dtype: float64"
      ]
     },
     "execution_count": 22,
     "metadata": {},
     "output_type": "execute_result"
    }
   ],
   "source": [
    "t2 = bar_coupons[(bar_coupons.Bar == \"4~8\") | (bar_coupons.Bar == \"gt8\")]\n",
    "t2.Y.value_counts() / t2.shape[0]\n",
    "# those who went to a bar more than 3 times a month accepts bar coupons 76%"
   ]
  },
  {
   "cell_type": "markdown",
   "metadata": {},
   "source": [
    "4. Compare the acceptance rate between drivers who go to a bar more than once a month and are over the age of 25 to the all others.  Is there a difference?\n"
   ]
  },
  {
   "cell_type": "code",
   "execution_count": 23,
   "metadata": {},
   "outputs": [
    {
     "name": "stdout",
     "output_type": "stream",
     "text": [
      "(420, 24)\n",
      "(1597, 24)\n"
     ]
    }
   ],
   "source": [
    "# group1 = group in the definition\n",
    "# group2 = all others\n",
    "group1 = bar_coupons[(bar_coupons.Bar != \"never\") & (bar_coupons.Bar != \"less1\") & (bar_coupons.age != \"21\") & (bar_coupons.age != \"below21\")]\n",
    "print(group1.shape)\n",
    "\n",
    "group2 = bar_coupons[~((bar_coupons.Bar != \"never\") & (bar_coupons.Bar != \"less1\") & (bar_coupons.age != \"21\") & (bar_coupons.age != \"below21\"))]\n",
    "print(group2.shape)"
   ]
  },
  {
   "cell_type": "code",
   "execution_count": 24,
   "metadata": {},
   "outputs": [
    {
     "data": {
      "text/plain": [
       "1    0.695238\n",
       "0    0.304762\n",
       "Name: Y, dtype: float64"
      ]
     },
     "execution_count": 24,
     "metadata": {},
     "output_type": "execute_result"
    }
   ],
   "source": [
    "group1.Y.value_counts() / group1.shape[0]\n",
    "# 69% of the group1 accept bar coupon"
   ]
  },
  {
   "cell_type": "code",
   "execution_count": 25,
   "metadata": {},
   "outputs": [
    {
     "data": {
      "text/plain": [
       "0    0.664997\n",
       "1    0.335003\n",
       "Name: Y, dtype: float64"
      ]
     },
     "execution_count": 25,
     "metadata": {},
     "output_type": "execute_result"
    }
   ],
   "source": [
    "group2.Y.value_counts() / group2.shape[0]\n",
    "# 33% of the group1 accept bar coupon\n",
    "# yes, there is difference\n",
    "# drivers who go to a bar more than once a month and are over the age of 25 are better accepter of bar coupons than others"
   ]
  },
  {
   "cell_type": "markdown",
   "metadata": {},
   "source": [
    "5. Use the same process to compare the acceptance rate between drivers who go to bars more than once a month and had passengers that were not a kid and had occupations other than farming, fishing, or forestry. \n"
   ]
  },
  {
   "cell_type": "code",
   "execution_count": 26,
   "metadata": {},
   "outputs": [
    {
     "name": "stdout",
     "output_type": "stream",
     "text": [
      "(120, 24)\n"
     ]
    }
   ],
   "source": [
    "group3 = bar_coupons[(bar_coupons.Bar != \"never\") & (bar_coupons.Bar != \"less1\") & ((bar_coupons.passanger == \"Friend(s)\") | (bar_coupons.age == \"Partner\")) & (bar_coupons.occupation != \"Farming Fishing & Forestry\")]\n",
    "print(group3.shape)"
   ]
  },
  {
   "cell_type": "code",
   "execution_count": 27,
   "metadata": {},
   "outputs": [
    {
     "data": {
      "text/plain": [
       "1    0.791667\n",
       "0    0.208333\n",
       "Name: Y, dtype: float64"
      ]
     },
     "execution_count": 27,
     "metadata": {},
     "output_type": "execute_result"
    }
   ],
   "source": [
    "group3.Y.value_counts() / group3.shape[0]\n",
    "# 79% of\n",
    "# drivers who go to bars more than once a month and had passengers that were not a kid and had occupations other than farming, fishing, or forestry\n",
    "# accept bar coupon"
   ]
  },
  {
   "cell_type": "markdown",
   "metadata": {},
   "source": [
    "6. Compare the acceptance rates between those drivers who:\n",
    "\n",
    "- go to bars more than once a month, had passengers that were not a kid, and were not widowed *OR*\n",
    "- go to bars more than once a month and are under the age of 30 *OR*\n",
    "- go to cheap restaurants more than 4 times a month and income is less than 50K. \n",
    "\n"
   ]
  },
  {
   "cell_type": "code",
   "execution_count": 28,
   "metadata": {},
   "outputs": [
    {
     "name": "stdout",
     "output_type": "stream",
     "text": [
      "(551, 24)\n"
     ]
    },
    {
     "data": {
      "text/plain": [
       "1    0.713249\n",
       "0    0.286751\n",
       "Name: Y, dtype: float64"
      ]
     },
     "execution_count": 28,
     "metadata": {},
     "output_type": "execute_result"
    }
   ],
   "source": [
    "groupA = bar_coupons[(bar_coupons.Bar != \"never\") & (bar_coupons.Bar != \"less1\") & (bar_coupons.passanger != \"Kid(s)\") & (bar_coupons.maritalStatus != \"Widowed\")]\n",
    "print(groupA.shape)\n",
    "groupA.Y.value_counts() / groupA.shape[0]"
   ]
  },
  {
   "cell_type": "code",
   "execution_count": 29,
   "metadata": {},
   "outputs": [
    {
     "name": "stdout",
     "output_type": "stream",
     "text": [
      "(345, 24)\n"
     ]
    },
    {
     "data": {
      "text/plain": [
       "1    0.721739\n",
       "0    0.278261\n",
       "Name: Y, dtype: float64"
      ]
     },
     "execution_count": 29,
     "metadata": {},
     "output_type": "execute_result"
    }
   ],
   "source": [
    "groupB = bar_coupons[(bar_coupons.Bar != \"never\") & (bar_coupons.Bar != \"less1\") & ((bar_coupons.age == \"below21\") | (bar_coupons.age == \"21\") | (bar_coupons.age == \"26\"))]\n",
    "print(groupB.shape)\n",
    "groupB.Y.value_counts() / groupB.shape[0]"
   ]
  },
  {
   "cell_type": "code",
   "execution_count": 30,
   "metadata": {
    "scrolled": true
   },
   "outputs": [
    {
     "name": "stdout",
     "output_type": "stream",
     "text": [
      "(344, 24)\n"
     ]
    },
    {
     "data": {
      "text/plain": [
       "0    0.546512\n",
       "1    0.453488\n",
       "Name: Y, dtype: float64"
      ]
     },
     "execution_count": 30,
     "metadata": {},
     "output_type": "execute_result"
    }
   ],
   "source": [
    "groupC = bar_coupons[((bar_coupons.RestaurantLessThan20 == \"4~8\") | (bar_coupons.RestaurantLessThan20 == \"gt8\")) & (bar_coupons.income.isin([\"Less than $12500\", \"$12500 - $24999\", \"$25000 - $37499\", \"$37500 - $49999\"]))]\n",
    "print(groupC.shape)\n",
    "groupC.Y.value_counts() / groupC.shape[0]"
   ]
  },
  {
   "cell_type": "code",
   "execution_count": 31,
   "metadata": {},
   "outputs": [],
   "source": [
    "# between the three groups given, first two groups are more likely to accept the coupon."
   ]
  },
  {
   "cell_type": "markdown",
   "metadata": {},
   "source": [
    "7.  Based on these observations, what do you hypothesize about drivers who accepted the bar coupons?"
   ]
  },
  {
   "cell_type": "code",
   "execution_count": null,
   "metadata": {},
   "outputs": [],
   "source": [
    "\"\"\"\n",
    "normally, a driver's chance to accept coupon is 50%.\n",
    "from the data, bar coupons' acceptance ratio is 58% without any conditions.\n",
    "so, i think 58% is threshold instead of 50%. hence, any ratio greater than 50% is \"higher chance\"\n",
    "\n",
    "according to ratios printed above, group3 (drivers who go to bars more than once a month and had passengers that were not a kid and had occupations other than farming, fishing, or forestry)\n",
    "has the highest chance to accept bar copuns among all groups.\n",
    "\"\"\""
   ]
  },
  {
   "cell_type": "markdown",
   "metadata": {},
   "source": [
    "### Independent Investigation\n",
    "\n",
    "Using the bar coupon example as motivation, you are to explore one of the other coupon groups and try to determine the characteristics of passengers who accept the coupons.  "
   ]
  },
  {
   "cell_type": "markdown",
   "metadata": {},
   "source": [
    "#### starting w/ coffee house coupons"
   ]
  },
  {
   "cell_type": "code",
   "execution_count": 33,
   "metadata": {
    "scrolled": true
   },
   "outputs": [
    {
     "data": {
      "text/plain": [
       "(3996, 24)"
      ]
     },
     "execution_count": 33,
     "metadata": {},
     "output_type": "execute_result"
    }
   ],
   "source": [
    "# since majority of the coupons are coffee house coupons, i want to focus on them\n",
    "ch_coupons = data[data.coupon == \"Coffee House\"]\n",
    "ch_coupons.shape"
   ]
  },
  {
   "cell_type": "code",
   "execution_count": 34,
   "metadata": {},
   "outputs": [
    {
     "data": {
      "text/html": [
       "<div>\n",
       "<style scoped>\n",
       "    .dataframe tbody tr th:only-of-type {\n",
       "        vertical-align: middle;\n",
       "    }\n",
       "\n",
       "    .dataframe tbody tr th {\n",
       "        vertical-align: top;\n",
       "    }\n",
       "\n",
       "    .dataframe thead th {\n",
       "        text-align: right;\n",
       "    }\n",
       "</style>\n",
       "<table border=\"1\" class=\"dataframe\">\n",
       "  <thead>\n",
       "    <tr style=\"text-align: right;\">\n",
       "      <th></th>\n",
       "      <th>destination</th>\n",
       "      <th>passanger</th>\n",
       "      <th>weather</th>\n",
       "      <th>temperature</th>\n",
       "      <th>time</th>\n",
       "      <th>coupon</th>\n",
       "      <th>expiration</th>\n",
       "      <th>gender</th>\n",
       "      <th>age</th>\n",
       "      <th>maritalStatus</th>\n",
       "      <th>has_children</th>\n",
       "      <th>education</th>\n",
       "      <th>occupation</th>\n",
       "      <th>income</th>\n",
       "      <th>Bar</th>\n",
       "      <th>CoffeeHouse</th>\n",
       "      <th>CarryAway</th>\n",
       "      <th>RestaurantLessThan20</th>\n",
       "      <th>Restaurant20To50</th>\n",
       "      <th>toCoupon_GEQ15min</th>\n",
       "      <th>toCoupon_GEQ25min</th>\n",
       "      <th>direction_same</th>\n",
       "      <th>direction_opp</th>\n",
       "      <th>Y</th>\n",
       "    </tr>\n",
       "  </thead>\n",
       "  <tbody>\n",
       "    <tr>\n",
       "      <th>count</th>\n",
       "      <td>3996</td>\n",
       "      <td>3996</td>\n",
       "      <td>3996</td>\n",
       "      <td>3996.000000</td>\n",
       "      <td>3996</td>\n",
       "      <td>3996</td>\n",
       "      <td>3996</td>\n",
       "      <td>3996</td>\n",
       "      <td>3996</td>\n",
       "      <td>3996</td>\n",
       "      <td>3996.000000</td>\n",
       "      <td>3996</td>\n",
       "      <td>3996</td>\n",
       "      <td>3996</td>\n",
       "      <td>3996</td>\n",
       "      <td>3996</td>\n",
       "      <td>3996</td>\n",
       "      <td>3996</td>\n",
       "      <td>3996</td>\n",
       "      <td>3996.000000</td>\n",
       "      <td>3996.000000</td>\n",
       "      <td>3996.000000</td>\n",
       "      <td>3996.000000</td>\n",
       "      <td>3996.000000</td>\n",
       "    </tr>\n",
       "    <tr>\n",
       "      <th>unique</th>\n",
       "      <td>3</td>\n",
       "      <td>4</td>\n",
       "      <td>3</td>\n",
       "      <td>NaN</td>\n",
       "      <td>5</td>\n",
       "      <td>1</td>\n",
       "      <td>2</td>\n",
       "      <td>2</td>\n",
       "      <td>8</td>\n",
       "      <td>5</td>\n",
       "      <td>NaN</td>\n",
       "      <td>6</td>\n",
       "      <td>25</td>\n",
       "      <td>9</td>\n",
       "      <td>5</td>\n",
       "      <td>5</td>\n",
       "      <td>5</td>\n",
       "      <td>5</td>\n",
       "      <td>5</td>\n",
       "      <td>NaN</td>\n",
       "      <td>NaN</td>\n",
       "      <td>NaN</td>\n",
       "      <td>NaN</td>\n",
       "      <td>NaN</td>\n",
       "    </tr>\n",
       "    <tr>\n",
       "      <th>top</th>\n",
       "      <td>No Urgent Place</td>\n",
       "      <td>Alone</td>\n",
       "      <td>Sunny</td>\n",
       "      <td>NaN</td>\n",
       "      <td>6PM</td>\n",
       "      <td>Coffee House</td>\n",
       "      <td>2h</td>\n",
       "      <td>Female</td>\n",
       "      <td>21</td>\n",
       "      <td>Single</td>\n",
       "      <td>NaN</td>\n",
       "      <td>Some college - no degree</td>\n",
       "      <td>Unemployed</td>\n",
       "      <td>$25000 - $37499</td>\n",
       "      <td>never</td>\n",
       "      <td>less1</td>\n",
       "      <td>1~3</td>\n",
       "      <td>1~3</td>\n",
       "      <td>less1</td>\n",
       "      <td>NaN</td>\n",
       "      <td>NaN</td>\n",
       "      <td>NaN</td>\n",
       "      <td>NaN</td>\n",
       "      <td>NaN</td>\n",
       "    </tr>\n",
       "    <tr>\n",
       "      <th>freq</th>\n",
       "      <td>2155</td>\n",
       "      <td>2256</td>\n",
       "      <td>3467</td>\n",
       "      <td>NaN</td>\n",
       "      <td>1093</td>\n",
       "      <td>3996</td>\n",
       "      <td>2227</td>\n",
       "      <td>2051</td>\n",
       "      <td>883</td>\n",
       "      <td>1550</td>\n",
       "      <td>NaN</td>\n",
       "      <td>1371</td>\n",
       "      <td>570</td>\n",
       "      <td>640</td>\n",
       "      <td>1673</td>\n",
       "      <td>1075</td>\n",
       "      <td>1496</td>\n",
       "      <td>1679</td>\n",
       "      <td>1869</td>\n",
       "      <td>NaN</td>\n",
       "      <td>NaN</td>\n",
       "      <td>NaN</td>\n",
       "      <td>NaN</td>\n",
       "      <td>NaN</td>\n",
       "    </tr>\n",
       "    <tr>\n",
       "      <th>mean</th>\n",
       "      <td>NaN</td>\n",
       "      <td>NaN</td>\n",
       "      <td>NaN</td>\n",
       "      <td>68.031782</td>\n",
       "      <td>NaN</td>\n",
       "      <td>NaN</td>\n",
       "      <td>NaN</td>\n",
       "      <td>NaN</td>\n",
       "      <td>NaN</td>\n",
       "      <td>NaN</td>\n",
       "      <td>0.387888</td>\n",
       "      <td>NaN</td>\n",
       "      <td>NaN</td>\n",
       "      <td>NaN</td>\n",
       "      <td>NaN</td>\n",
       "      <td>NaN</td>\n",
       "      <td>NaN</td>\n",
       "      <td>NaN</td>\n",
       "      <td>NaN</td>\n",
       "      <td>0.518769</td>\n",
       "      <td>0.077578</td>\n",
       "      <td>0.187688</td>\n",
       "      <td>0.812312</td>\n",
       "      <td>0.499249</td>\n",
       "    </tr>\n",
       "    <tr>\n",
       "      <th>std</th>\n",
       "      <td>NaN</td>\n",
       "      <td>NaN</td>\n",
       "      <td>NaN</td>\n",
       "      <td>15.984543</td>\n",
       "      <td>NaN</td>\n",
       "      <td>NaN</td>\n",
       "      <td>NaN</td>\n",
       "      <td>NaN</td>\n",
       "      <td>NaN</td>\n",
       "      <td>NaN</td>\n",
       "      <td>0.487330</td>\n",
       "      <td>NaN</td>\n",
       "      <td>NaN</td>\n",
       "      <td>NaN</td>\n",
       "      <td>NaN</td>\n",
       "      <td>NaN</td>\n",
       "      <td>NaN</td>\n",
       "      <td>NaN</td>\n",
       "      <td>NaN</td>\n",
       "      <td>0.499710</td>\n",
       "      <td>0.267539</td>\n",
       "      <td>0.390511</td>\n",
       "      <td>0.390511</td>\n",
       "      <td>0.500062</td>\n",
       "    </tr>\n",
       "    <tr>\n",
       "      <th>min</th>\n",
       "      <td>NaN</td>\n",
       "      <td>NaN</td>\n",
       "      <td>NaN</td>\n",
       "      <td>30.000000</td>\n",
       "      <td>NaN</td>\n",
       "      <td>NaN</td>\n",
       "      <td>NaN</td>\n",
       "      <td>NaN</td>\n",
       "      <td>NaN</td>\n",
       "      <td>NaN</td>\n",
       "      <td>0.000000</td>\n",
       "      <td>NaN</td>\n",
       "      <td>NaN</td>\n",
       "      <td>NaN</td>\n",
       "      <td>NaN</td>\n",
       "      <td>NaN</td>\n",
       "      <td>NaN</td>\n",
       "      <td>NaN</td>\n",
       "      <td>NaN</td>\n",
       "      <td>0.000000</td>\n",
       "      <td>0.000000</td>\n",
       "      <td>0.000000</td>\n",
       "      <td>0.000000</td>\n",
       "      <td>0.000000</td>\n",
       "    </tr>\n",
       "    <tr>\n",
       "      <th>25%</th>\n",
       "      <td>NaN</td>\n",
       "      <td>NaN</td>\n",
       "      <td>NaN</td>\n",
       "      <td>55.000000</td>\n",
       "      <td>NaN</td>\n",
       "      <td>NaN</td>\n",
       "      <td>NaN</td>\n",
       "      <td>NaN</td>\n",
       "      <td>NaN</td>\n",
       "      <td>NaN</td>\n",
       "      <td>0.000000</td>\n",
       "      <td>NaN</td>\n",
       "      <td>NaN</td>\n",
       "      <td>NaN</td>\n",
       "      <td>NaN</td>\n",
       "      <td>NaN</td>\n",
       "      <td>NaN</td>\n",
       "      <td>NaN</td>\n",
       "      <td>NaN</td>\n",
       "      <td>0.000000</td>\n",
       "      <td>0.000000</td>\n",
       "      <td>0.000000</td>\n",
       "      <td>1.000000</td>\n",
       "      <td>0.000000</td>\n",
       "    </tr>\n",
       "    <tr>\n",
       "      <th>50%</th>\n",
       "      <td>NaN</td>\n",
       "      <td>NaN</td>\n",
       "      <td>NaN</td>\n",
       "      <td>80.000000</td>\n",
       "      <td>NaN</td>\n",
       "      <td>NaN</td>\n",
       "      <td>NaN</td>\n",
       "      <td>NaN</td>\n",
       "      <td>NaN</td>\n",
       "      <td>NaN</td>\n",
       "      <td>0.000000</td>\n",
       "      <td>NaN</td>\n",
       "      <td>NaN</td>\n",
       "      <td>NaN</td>\n",
       "      <td>NaN</td>\n",
       "      <td>NaN</td>\n",
       "      <td>NaN</td>\n",
       "      <td>NaN</td>\n",
       "      <td>NaN</td>\n",
       "      <td>1.000000</td>\n",
       "      <td>0.000000</td>\n",
       "      <td>0.000000</td>\n",
       "      <td>1.000000</td>\n",
       "      <td>0.000000</td>\n",
       "    </tr>\n",
       "    <tr>\n",
       "      <th>75%</th>\n",
       "      <td>NaN</td>\n",
       "      <td>NaN</td>\n",
       "      <td>NaN</td>\n",
       "      <td>80.000000</td>\n",
       "      <td>NaN</td>\n",
       "      <td>NaN</td>\n",
       "      <td>NaN</td>\n",
       "      <td>NaN</td>\n",
       "      <td>NaN</td>\n",
       "      <td>NaN</td>\n",
       "      <td>1.000000</td>\n",
       "      <td>NaN</td>\n",
       "      <td>NaN</td>\n",
       "      <td>NaN</td>\n",
       "      <td>NaN</td>\n",
       "      <td>NaN</td>\n",
       "      <td>NaN</td>\n",
       "      <td>NaN</td>\n",
       "      <td>NaN</td>\n",
       "      <td>1.000000</td>\n",
       "      <td>0.000000</td>\n",
       "      <td>0.000000</td>\n",
       "      <td>1.000000</td>\n",
       "      <td>1.000000</td>\n",
       "    </tr>\n",
       "    <tr>\n",
       "      <th>max</th>\n",
       "      <td>NaN</td>\n",
       "      <td>NaN</td>\n",
       "      <td>NaN</td>\n",
       "      <td>80.000000</td>\n",
       "      <td>NaN</td>\n",
       "      <td>NaN</td>\n",
       "      <td>NaN</td>\n",
       "      <td>NaN</td>\n",
       "      <td>NaN</td>\n",
       "      <td>NaN</td>\n",
       "      <td>1.000000</td>\n",
       "      <td>NaN</td>\n",
       "      <td>NaN</td>\n",
       "      <td>NaN</td>\n",
       "      <td>NaN</td>\n",
       "      <td>NaN</td>\n",
       "      <td>NaN</td>\n",
       "      <td>NaN</td>\n",
       "      <td>NaN</td>\n",
       "      <td>1.000000</td>\n",
       "      <td>1.000000</td>\n",
       "      <td>1.000000</td>\n",
       "      <td>1.000000</td>\n",
       "      <td>1.000000</td>\n",
       "    </tr>\n",
       "  </tbody>\n",
       "</table>\n",
       "</div>"
      ],
      "text/plain": [
       "            destination passanger weather  temperature  time        coupon  \\\n",
       "count              3996      3996    3996  3996.000000  3996          3996   \n",
       "unique                3         4       3          NaN     5             1   \n",
       "top     No Urgent Place     Alone   Sunny          NaN   6PM  Coffee House   \n",
       "freq               2155      2256    3467          NaN  1093          3996   \n",
       "mean                NaN       NaN     NaN    68.031782   NaN           NaN   \n",
       "std                 NaN       NaN     NaN    15.984543   NaN           NaN   \n",
       "min                 NaN       NaN     NaN    30.000000   NaN           NaN   \n",
       "25%                 NaN       NaN     NaN    55.000000   NaN           NaN   \n",
       "50%                 NaN       NaN     NaN    80.000000   NaN           NaN   \n",
       "75%                 NaN       NaN     NaN    80.000000   NaN           NaN   \n",
       "max                 NaN       NaN     NaN    80.000000   NaN           NaN   \n",
       "\n",
       "       expiration  gender   age maritalStatus  has_children  \\\n",
       "count        3996    3996  3996          3996   3996.000000   \n",
       "unique          2       2     8             5           NaN   \n",
       "top            2h  Female    21        Single           NaN   \n",
       "freq         2227    2051   883          1550           NaN   \n",
       "mean          NaN     NaN   NaN           NaN      0.387888   \n",
       "std           NaN     NaN   NaN           NaN      0.487330   \n",
       "min           NaN     NaN   NaN           NaN      0.000000   \n",
       "25%           NaN     NaN   NaN           NaN      0.000000   \n",
       "50%           NaN     NaN   NaN           NaN      0.000000   \n",
       "75%           NaN     NaN   NaN           NaN      1.000000   \n",
       "max           NaN     NaN   NaN           NaN      1.000000   \n",
       "\n",
       "                       education  occupation           income    Bar  \\\n",
       "count                       3996        3996             3996   3996   \n",
       "unique                         6          25                9      5   \n",
       "top     Some college - no degree  Unemployed  $25000 - $37499  never   \n",
       "freq                        1371         570              640   1673   \n",
       "mean                         NaN         NaN              NaN    NaN   \n",
       "std                          NaN         NaN              NaN    NaN   \n",
       "min                          NaN         NaN              NaN    NaN   \n",
       "25%                          NaN         NaN              NaN    NaN   \n",
       "50%                          NaN         NaN              NaN    NaN   \n",
       "75%                          NaN         NaN              NaN    NaN   \n",
       "max                          NaN         NaN              NaN    NaN   \n",
       "\n",
       "       CoffeeHouse CarryAway RestaurantLessThan20 Restaurant20To50  \\\n",
       "count         3996      3996                 3996             3996   \n",
       "unique           5         5                    5                5   \n",
       "top          less1       1~3                  1~3            less1   \n",
       "freq          1075      1496                 1679             1869   \n",
       "mean           NaN       NaN                  NaN              NaN   \n",
       "std            NaN       NaN                  NaN              NaN   \n",
       "min            NaN       NaN                  NaN              NaN   \n",
       "25%            NaN       NaN                  NaN              NaN   \n",
       "50%            NaN       NaN                  NaN              NaN   \n",
       "75%            NaN       NaN                  NaN              NaN   \n",
       "max            NaN       NaN                  NaN              NaN   \n",
       "\n",
       "        toCoupon_GEQ15min  toCoupon_GEQ25min  direction_same  direction_opp  \\\n",
       "count         3996.000000        3996.000000     3996.000000    3996.000000   \n",
       "unique                NaN                NaN             NaN            NaN   \n",
       "top                   NaN                NaN             NaN            NaN   \n",
       "freq                  NaN                NaN             NaN            NaN   \n",
       "mean             0.518769           0.077578        0.187688       0.812312   \n",
       "std              0.499710           0.267539        0.390511       0.390511   \n",
       "min              0.000000           0.000000        0.000000       0.000000   \n",
       "25%              0.000000           0.000000        0.000000       1.000000   \n",
       "50%              1.000000           0.000000        0.000000       1.000000   \n",
       "75%              1.000000           0.000000        0.000000       1.000000   \n",
       "max              1.000000           1.000000        1.000000       1.000000   \n",
       "\n",
       "                  Y  \n",
       "count   3996.000000  \n",
       "unique          NaN  \n",
       "top             NaN  \n",
       "freq            NaN  \n",
       "mean       0.499249  \n",
       "std        0.500062  \n",
       "min        0.000000  \n",
       "25%        0.000000  \n",
       "50%        0.000000  \n",
       "75%        1.000000  \n",
       "max        1.000000  "
      ]
     },
     "execution_count": 34,
     "metadata": {},
     "output_type": "execute_result"
    }
   ],
   "source": [
    "ch_coupons.describe(include = 'all')"
   ]
  },
  {
   "cell_type": "code",
   "execution_count": 35,
   "metadata": {
    "scrolled": true
   },
   "outputs": [
    {
     "data": {
      "text/html": [
       "<div>\n",
       "<style scoped>\n",
       "    .dataframe tbody tr th:only-of-type {\n",
       "        vertical-align: middle;\n",
       "    }\n",
       "\n",
       "    .dataframe tbody tr th {\n",
       "        vertical-align: top;\n",
       "    }\n",
       "\n",
       "    .dataframe thead th {\n",
       "        text-align: right;\n",
       "    }\n",
       "</style>\n",
       "<table border=\"1\" class=\"dataframe\">\n",
       "  <thead>\n",
       "    <tr style=\"text-align: right;\">\n",
       "      <th></th>\n",
       "      <th>temperature</th>\n",
       "      <th>has_children</th>\n",
       "      <th>toCoupon_GEQ15min</th>\n",
       "      <th>toCoupon_GEQ25min</th>\n",
       "      <th>direction_same</th>\n",
       "      <th>direction_opp</th>\n",
       "      <th>Y</th>\n",
       "    </tr>\n",
       "  </thead>\n",
       "  <tbody>\n",
       "    <tr>\n",
       "      <th>temperature</th>\n",
       "      <td>1.000000</td>\n",
       "      <td>-0.040143</td>\n",
       "      <td>-0.159504</td>\n",
       "      <td>-0.065255</td>\n",
       "      <td>0.013079</td>\n",
       "      <td>-0.013079</td>\n",
       "      <td>0.071293</td>\n",
       "    </tr>\n",
       "    <tr>\n",
       "      <th>has_children</th>\n",
       "      <td>-0.040143</td>\n",
       "      <td>1.000000</td>\n",
       "      <td>0.099610</td>\n",
       "      <td>0.011048</td>\n",
       "      <td>-0.039349</td>\n",
       "      <td>0.039349</td>\n",
       "      <td>-0.017294</td>\n",
       "    </tr>\n",
       "    <tr>\n",
       "      <th>toCoupon_GEQ15min</th>\n",
       "      <td>-0.159504</td>\n",
       "      <td>0.099610</td>\n",
       "      <td>1.000000</td>\n",
       "      <td>0.279314</td>\n",
       "      <td>-0.292558</td>\n",
       "      <td>0.292558</td>\n",
       "      <td>-0.094104</td>\n",
       "    </tr>\n",
       "    <tr>\n",
       "      <th>toCoupon_GEQ25min</th>\n",
       "      <td>-0.065255</td>\n",
       "      <td>0.011048</td>\n",
       "      <td>0.279314</td>\n",
       "      <td>1.000000</td>\n",
       "      <td>-0.139399</td>\n",
       "      <td>0.139399</td>\n",
       "      <td>-0.089372</td>\n",
       "    </tr>\n",
       "    <tr>\n",
       "      <th>direction_same</th>\n",
       "      <td>0.013079</td>\n",
       "      <td>-0.039349</td>\n",
       "      <td>-0.292558</td>\n",
       "      <td>-0.139399</td>\n",
       "      <td>1.000000</td>\n",
       "      <td>-1.000000</td>\n",
       "      <td>0.030204</td>\n",
       "    </tr>\n",
       "    <tr>\n",
       "      <th>direction_opp</th>\n",
       "      <td>-0.013079</td>\n",
       "      <td>0.039349</td>\n",
       "      <td>0.292558</td>\n",
       "      <td>0.139399</td>\n",
       "      <td>-1.000000</td>\n",
       "      <td>1.000000</td>\n",
       "      <td>-0.030204</td>\n",
       "    </tr>\n",
       "    <tr>\n",
       "      <th>Y</th>\n",
       "      <td>0.071293</td>\n",
       "      <td>-0.017294</td>\n",
       "      <td>-0.094104</td>\n",
       "      <td>-0.089372</td>\n",
       "      <td>0.030204</td>\n",
       "      <td>-0.030204</td>\n",
       "      <td>1.000000</td>\n",
       "    </tr>\n",
       "  </tbody>\n",
       "</table>\n",
       "</div>"
      ],
      "text/plain": [
       "                   temperature  has_children  toCoupon_GEQ15min  \\\n",
       "temperature           1.000000     -0.040143          -0.159504   \n",
       "has_children         -0.040143      1.000000           0.099610   \n",
       "toCoupon_GEQ15min    -0.159504      0.099610           1.000000   \n",
       "toCoupon_GEQ25min    -0.065255      0.011048           0.279314   \n",
       "direction_same        0.013079     -0.039349          -0.292558   \n",
       "direction_opp        -0.013079      0.039349           0.292558   \n",
       "Y                     0.071293     -0.017294          -0.094104   \n",
       "\n",
       "                   toCoupon_GEQ25min  direction_same  direction_opp         Y  \n",
       "temperature                -0.065255        0.013079      -0.013079  0.071293  \n",
       "has_children                0.011048       -0.039349       0.039349 -0.017294  \n",
       "toCoupon_GEQ15min           0.279314       -0.292558       0.292558 -0.094104  \n",
       "toCoupon_GEQ25min           1.000000       -0.139399       0.139399 -0.089372  \n",
       "direction_same             -0.139399        1.000000      -1.000000  0.030204  \n",
       "direction_opp               0.139399       -1.000000       1.000000 -0.030204  \n",
       "Y                          -0.089372        0.030204      -0.030204  1.000000  "
      ]
     },
     "execution_count": 35,
     "metadata": {},
     "output_type": "execute_result"
    }
   ],
   "source": [
    "ch_coupons.corr()\n",
    "# none of the numeric columns has high correlation value with Y\n",
    "# column with the biggest correlation between Y is toCoupon_GEQ15min\n",
    "# and even toCoupon_GEQ15min is not that important for Y"
   ]
  },
  {
   "cell_type": "code",
   "execution_count": 36,
   "metadata": {},
   "outputs": [
    {
     "data": {
      "image/png": "[encoded data removed]",
      "text/plain": [
       "<Figure size 432x288 with 1 Axes>"
      ]
     },
     "metadata": {
      "needs_background": "light"
     },
     "output_type": "display_data"
    }
   ],
   "source": [
    "temp = pd.DataFrame(ch_coupons.weather.value_counts())\n",
    "plt.bar(temp.index, temp[temp.columns[0]], color =\"lightblue\")\n",
    " \n",
    "plt.xlabel(\"Weather\")\n",
    "plt.ylabel(\"Count\")\n",
    "plt.show()\n",
    "\n",
    "# most of the coffee house coupons offered on sunny days"
   ]
  },
  {
   "cell_type": "code",
   "execution_count": 37,
   "metadata": {
    "scrolled": true
   },
   "outputs": [
    {
     "data": {
      "image/png": "[encoded data removed]",
      "text/plain": [
       "<Figure size 432x288 with 1 Axes>"
      ]
     },
     "metadata": {},
     "output_type": "display_data"
    }
   ],
   "source": [
    "temp = pd.DataFrame(ch_coupons.age.value_counts())\n",
    "plt.pie(temp.age, labels = temp.index, colors = sns.color_palette('bright'), autopct='%.0f%%')\n",
    "plt.show()\n",
    "\n",
    "# most of the drivers that offered a coupon are 26 and below"
   ]
  },
  {
   "cell_type": "code",
   "execution_count": 38,
   "metadata": {
    "scrolled": false
   },
   "outputs": [
    {
     "data": {
      "text/plain": [
       "<seaborn.axisgrid.FacetGrid at 0x157a16fa070>"
      ]
     },
     "execution_count": 38,
     "metadata": {},
     "output_type": "execute_result"
    },
    {
     "data": {
      "image/png": "[encoded data removed]",
      "text/plain": [
       "<Figure size 402.375x360 with 1 Axes>"
      ]
     },
     "metadata": {
      "needs_background": "light"
     },
     "output_type": "display_data"
    }
   ],
   "source": [
    "sns.catplot(data = ch_coupons, kind = \"bar\",\n",
    "            x = \"passanger\", y = \"temperature\", hue = \"Y\")\n",
    "\n",
    "# no differentiation neither on passanger nor temperature"
   ]
  },
  {
   "cell_type": "code",
   "execution_count": 39,
   "metadata": {},
   "outputs": [
    {
     "data": {
      "text/plain": [
       "0    0.500751\n",
       "1    0.499249\n",
       "Name: Y, dtype: float64"
      ]
     },
     "execution_count": 39,
     "metadata": {},
     "output_type": "execute_result"
    }
   ],
   "source": [
    "ch_coupons.Y.value_counts() / ch_coupons.shape[0]"
   ]
  },
  {
   "cell_type": "code",
   "execution_count": 40,
   "metadata": {},
   "outputs": [
    {
     "data": {
      "text/plain": [
       "1    0.53429\n",
       "0    0.46571\n",
       "Name: Y, dtype: float64"
      ]
     },
     "execution_count": 40,
     "metadata": {},
     "output_type": "execute_result"
    }
   ],
   "source": [
    "youngs = ch_coupons[(ch_coupons.age == \"21\") | (ch_coupons.age == \"below21\") | (ch_coupons.age == \"26\")]\n",
    "youngs.Y.value_counts() / youngs.shape[0]\n",
    "# younger ages accepts coffee house coupons more"
   ]
  },
  {
   "cell_type": "code",
   "execution_count": 41,
   "metadata": {},
   "outputs": [
    {
     "data": {
      "text/plain": [
       "1    0.625251\n",
       "0    0.374749\n",
       "Name: Y, dtype: float64"
      ]
     },
     "execution_count": 41,
     "metadata": {},
     "output_type": "execute_result"
    }
   ],
   "source": [
    "# tried to add \"Unemployed\" but 62 drops to 58\n",
    "students = ch_coupons[ch_coupons.occupation == \"Student\"]\n",
    "students.Y.value_counts() / students.shape[0]\n",
    "\n",
    "# students tend more to accept coffee house coupons"
   ]
  },
  {
   "cell_type": "code",
   "execution_count": 42,
   "metadata": {},
   "outputs": [
    {
     "data": {
      "text/plain": [
       "1    0.637363\n",
       "0    0.362637\n",
       "Name: Y, dtype: float64"
      ]
     },
     "execution_count": 42,
     "metadata": {},
     "output_type": "execute_result"
    }
   ],
   "source": [
    "first_group = ch_coupons[(ch_coupons.occupation == \"Student\") & ((ch_coupons.age == \"21\") | (ch_coupons.age == \"below21\") | (ch_coupons.age == \"26\"))]\n",
    "first_group.Y.value_counts() / first_group.shape[0]\n",
    "\n",
    "# drivers who are students and whose age 26 and below\n",
    "# have more chance to accept coffee house coupons"
   ]
  },
  {
   "cell_type": "code",
   "execution_count": 43,
   "metadata": {
    "scrolled": true
   },
   "outputs": [
    {
     "data": {
      "text/plain": [
       "1    0.59165\n",
       "0    0.40835\n",
       "Name: Y, dtype: float64"
      ]
     },
     "execution_count": 43,
     "metadata": {},
     "output_type": "execute_result"
    }
   ],
   "source": [
    "no_kids_pass = ch_coupons[(ch_coupons.passanger == \"Partner\") | (ch_coupons.passanger == \"Friend(s)\")]\n",
    "no_kids_pass.Y.value_counts() / no_kids_pass.shape[0]\n",
    "\n",
    "# drivers with passangers but without kids tend more to accept coffee house coupons"
   ]
  },
  {
   "cell_type": "code",
   "execution_count": 44,
   "metadata": {},
   "outputs": [
    {
     "data": {
      "text/plain": [
       "1    0.725888\n",
       "0    0.274112\n",
       "Name: Y, dtype: float64"
      ]
     },
     "execution_count": 44,
     "metadata": {},
     "output_type": "execute_result"
    }
   ],
   "source": [
    "second_group = ch_coupons[(ch_coupons.occupation == \"Student\") & ((ch_coupons.passanger == \"Partner\") | (ch_coupons.passanger == \"Friend(s)\"))]\n",
    "second_group.Y.value_counts() / second_group.shape[0]\n",
    "\n",
    "# drivers who is a student and have passanger (but not kids) with them\n",
    "# have higher acceptance ratio than first group"
   ]
  },
  {
   "cell_type": "code",
   "execution_count": 45,
   "metadata": {},
   "outputs": [
    {
     "data": {
      "text/plain": [
       "1    0.621094\n",
       "0    0.378906\n",
       "Name: Y, dtype: float64"
      ]
     },
     "execution_count": 45,
     "metadata": {},
     "output_type": "execute_result"
    }
   ],
   "source": [
    "third_group = ch_coupons[((ch_coupons.age == \"21\") | (ch_coupons.age == \"below21\") | (ch_coupons.age == \"26\")) & ((ch_coupons.passanger == \"Partner\") | (ch_coupons.passanger == \"Friend(s)\"))]\n",
    "third_group.Y.value_counts() / third_group.shape[0]\n",
    "\n",
    "# drivers whose age 26 and below and have passanger (but not kids) with them\n",
    "# have higher acceptance ratio than first group but not more than second group"
   ]
  },
  {
   "cell_type": "code",
   "execution_count": 46,
   "metadata": {},
   "outputs": [
    {
     "data": {
      "text/plain": [
       "1    0.597165\n",
       "0    0.402835\n",
       "Name: Y, dtype: float64"
      ]
     },
     "execution_count": 46,
     "metadata": {},
     "output_type": "execute_result"
    }
   ],
   "source": [
    "time = ch_coupons[(ch_coupons.time == \"10AM\") | (ch_coupons.time == \"2PM\")]\n",
    "time.Y.value_counts() / time.shape[0]\n",
    "\n",
    "# drivers' chances to accept coffee coupons are more on afternoons (-ish)"
   ]
  },
  {
   "cell_type": "code",
   "execution_count": 47,
   "metadata": {},
   "outputs": [
    {
     "data": {
      "text/plain": [
       "1    0.648185\n",
       "0    0.351815\n",
       "Name: Y, dtype: float64"
      ]
     },
     "execution_count": 47,
     "metadata": {},
     "output_type": "execute_result"
    }
   ],
   "source": [
    "fourth_group = ch_coupons[(ch_coupons.time == \"10AM\") | (ch_coupons.time == \"2PM\") & (ch_coupons.occupation == \"Student\") & ((ch_coupons.age == \"21\") | (ch_coupons.age == \"below21\") | (ch_coupons.age == \"26\"))]\n",
    "fourth_group.Y.value_counts() / fourth_group.shape[0]\n",
    "\n",
    "# drivers who get offer on afternoon and student and whose age 26 and below\n",
    "# has slightly less chance to accept coffee house coupons"
   ]
  },
  {
   "cell_type": "code",
   "execution_count": 48,
   "metadata": {},
   "outputs": [
    {
     "data": {
      "text/plain": [
       "1    0.647944\n",
       "0    0.352056\n",
       "Name: Y, dtype: float64"
      ]
     },
     "execution_count": 48,
     "metadata": {},
     "output_type": "execute_result"
    }
   ],
   "source": [
    "fifth_group = ch_coupons[(ch_coupons.time == \"10AM\") | (ch_coupons.time == \"2PM\") & (ch_coupons.occupation == \"Student\") & ((ch_coupons.passanger == \"Partner\") | (ch_coupons.passanger == \"Friend(s)\"))]\n",
    "fifth_group.Y.value_counts() / fifth_group.shape[0]\n",
    "\n",
    "# drivers who get offer on afternoon and student and have passanger (but not kids) with them\n",
    "# has slightly less chance to accept coffee house coupons"
   ]
  },
  {
   "cell_type": "code",
   "execution_count": null,
   "metadata": {},
   "outputs": [],
   "source": [
    "\"\"\"\n",
    "my hypothesis for coffee coupons is that\n",
    "drivers who is student and have passanger (but not kids) with them have really high chance to accept coffee house coupons.\n",
    "\n",
    "\"\"\""
   ]
  },
  {
   "cell_type": "markdown",
   "metadata": {},
   "source": [
    "#### joint restaurant coupons"
   ]
  },
  {
   "cell_type": "code",
   "execution_count": 50,
   "metadata": {},
   "outputs": [
    {
     "data": {
      "text/plain": [
       "(4278, 24)"
      ]
     },
     "execution_count": 50,
     "metadata": {},
     "output_type": "execute_result"
    }
   ],
   "source": [
    "rest_coupons = data[data.coupon.isin([\"Restaurant(<20)\", \"Restaurant(20-50)\"])]\n",
    "rest_coupons.shape"
   ]
  },
  {
   "cell_type": "code",
   "execution_count": 51,
   "metadata": {},
   "outputs": [
    {
     "data": {
      "text/html": [
       "<div>\n",
       "<style scoped>\n",
       "    .dataframe tbody tr th:only-of-type {\n",
       "        vertical-align: middle;\n",
       "    }\n",
       "\n",
       "    .dataframe tbody tr th {\n",
       "        vertical-align: top;\n",
       "    }\n",
       "\n",
       "    .dataframe thead th {\n",
       "        text-align: right;\n",
       "    }\n",
       "</style>\n",
       "<table border=\"1\" class=\"dataframe\">\n",
       "  <thead>\n",
       "    <tr style=\"text-align: right;\">\n",
       "      <th></th>\n",
       "      <th>destination</th>\n",
       "      <th>passanger</th>\n",
       "      <th>weather</th>\n",
       "      <th>temperature</th>\n",
       "      <th>time</th>\n",
       "      <th>coupon</th>\n",
       "      <th>expiration</th>\n",
       "      <th>gender</th>\n",
       "      <th>age</th>\n",
       "      <th>maritalStatus</th>\n",
       "      <th>has_children</th>\n",
       "      <th>education</th>\n",
       "      <th>occupation</th>\n",
       "      <th>income</th>\n",
       "      <th>Bar</th>\n",
       "      <th>CoffeeHouse</th>\n",
       "      <th>CarryAway</th>\n",
       "      <th>RestaurantLessThan20</th>\n",
       "      <th>Restaurant20To50</th>\n",
       "      <th>toCoupon_GEQ15min</th>\n",
       "      <th>toCoupon_GEQ25min</th>\n",
       "      <th>direction_same</th>\n",
       "      <th>direction_opp</th>\n",
       "      <th>Y</th>\n",
       "    </tr>\n",
       "  </thead>\n",
       "  <tbody>\n",
       "    <tr>\n",
       "      <th>count</th>\n",
       "      <td>4278</td>\n",
       "      <td>4278</td>\n",
       "      <td>4278</td>\n",
       "      <td>4278.000000</td>\n",
       "      <td>4278</td>\n",
       "      <td>4278</td>\n",
       "      <td>4278</td>\n",
       "      <td>4278</td>\n",
       "      <td>4278</td>\n",
       "      <td>4278</td>\n",
       "      <td>4278.000000</td>\n",
       "      <td>4278</td>\n",
       "      <td>4278</td>\n",
       "      <td>4278</td>\n",
       "      <td>4278</td>\n",
       "      <td>4278</td>\n",
       "      <td>4278</td>\n",
       "      <td>4278</td>\n",
       "      <td>4278</td>\n",
       "      <td>4278.000000</td>\n",
       "      <td>4278.000000</td>\n",
       "      <td>4278.000000</td>\n",
       "      <td>4278.000000</td>\n",
       "      <td>4278.000000</td>\n",
       "    </tr>\n",
       "    <tr>\n",
       "      <th>unique</th>\n",
       "      <td>3</td>\n",
       "      <td>4</td>\n",
       "      <td>3</td>\n",
       "      <td>NaN</td>\n",
       "      <td>5</td>\n",
       "      <td>2</td>\n",
       "      <td>2</td>\n",
       "      <td>2</td>\n",
       "      <td>8</td>\n",
       "      <td>5</td>\n",
       "      <td>NaN</td>\n",
       "      <td>6</td>\n",
       "      <td>25</td>\n",
       "      <td>9</td>\n",
       "      <td>5</td>\n",
       "      <td>5</td>\n",
       "      <td>5</td>\n",
       "      <td>5</td>\n",
       "      <td>5</td>\n",
       "      <td>NaN</td>\n",
       "      <td>NaN</td>\n",
       "      <td>NaN</td>\n",
       "      <td>NaN</td>\n",
       "      <td>NaN</td>\n",
       "    </tr>\n",
       "    <tr>\n",
       "      <th>top</th>\n",
       "      <td>No Urgent Place</td>\n",
       "      <td>Alone</td>\n",
       "      <td>Sunny</td>\n",
       "      <td>NaN</td>\n",
       "      <td>6PM</td>\n",
       "      <td>Restaurant(&lt;20)</td>\n",
       "      <td>1d</td>\n",
       "      <td>Female</td>\n",
       "      <td>21</td>\n",
       "      <td>Married partner</td>\n",
       "      <td>NaN</td>\n",
       "      <td>Bachelors degree</td>\n",
       "      <td>Unemployed</td>\n",
       "      <td>$25000 - $37499</td>\n",
       "      <td>never</td>\n",
       "      <td>less1</td>\n",
       "      <td>1~3</td>\n",
       "      <td>1~3</td>\n",
       "      <td>less1</td>\n",
       "      <td>NaN</td>\n",
       "      <td>NaN</td>\n",
       "      <td>NaN</td>\n",
       "      <td>NaN</td>\n",
       "      <td>NaN</td>\n",
       "    </tr>\n",
       "    <tr>\n",
       "      <th>freq</th>\n",
       "      <td>2126</td>\n",
       "      <td>2444</td>\n",
       "      <td>3487</td>\n",
       "      <td>NaN</td>\n",
       "      <td>1136</td>\n",
       "      <td>2786</td>\n",
       "      <td>2310</td>\n",
       "      <td>2175</td>\n",
       "      <td>867</td>\n",
       "      <td>1734</td>\n",
       "      <td>NaN</td>\n",
       "      <td>1469</td>\n",
       "      <td>644</td>\n",
       "      <td>673</td>\n",
       "      <td>1780</td>\n",
       "      <td>1135</td>\n",
       "      <td>1571</td>\n",
       "      <td>1800</td>\n",
       "      <td>2068</td>\n",
       "      <td>NaN</td>\n",
       "      <td>NaN</td>\n",
       "      <td>NaN</td>\n",
       "      <td>NaN</td>\n",
       "      <td>NaN</td>\n",
       "    </tr>\n",
       "    <tr>\n",
       "      <th>mean</th>\n",
       "      <td>NaN</td>\n",
       "      <td>NaN</td>\n",
       "      <td>NaN</td>\n",
       "      <td>64.379383</td>\n",
       "      <td>NaN</td>\n",
       "      <td>NaN</td>\n",
       "      <td>NaN</td>\n",
       "      <td>NaN</td>\n",
       "      <td>NaN</td>\n",
       "      <td>NaN</td>\n",
       "      <td>0.421225</td>\n",
       "      <td>NaN</td>\n",
       "      <td>NaN</td>\n",
       "      <td>NaN</td>\n",
       "      <td>NaN</td>\n",
       "      <td>NaN</td>\n",
       "      <td>NaN</td>\n",
       "      <td>NaN</td>\n",
       "      <td>NaN</td>\n",
       "      <td>0.512155</td>\n",
       "      <td>0.099579</td>\n",
       "      <td>0.177419</td>\n",
       "      <td>0.822581</td>\n",
       "      <td>0.614306</td>\n",
       "    </tr>\n",
       "    <tr>\n",
       "      <th>std</th>\n",
       "      <td>NaN</td>\n",
       "      <td>NaN</td>\n",
       "      <td>NaN</td>\n",
       "      <td>19.659406</td>\n",
       "      <td>NaN</td>\n",
       "      <td>NaN</td>\n",
       "      <td>NaN</td>\n",
       "      <td>NaN</td>\n",
       "      <td>NaN</td>\n",
       "      <td>NaN</td>\n",
       "      <td>0.493813</td>\n",
       "      <td>NaN</td>\n",
       "      <td>NaN</td>\n",
       "      <td>NaN</td>\n",
       "      <td>NaN</td>\n",
       "      <td>NaN</td>\n",
       "      <td>NaN</td>\n",
       "      <td>NaN</td>\n",
       "      <td>NaN</td>\n",
       "      <td>0.499911</td>\n",
       "      <td>0.299473</td>\n",
       "      <td>0.382068</td>\n",
       "      <td>0.382068</td>\n",
       "      <td>0.486816</td>\n",
       "    </tr>\n",
       "    <tr>\n",
       "      <th>min</th>\n",
       "      <td>NaN</td>\n",
       "      <td>NaN</td>\n",
       "      <td>NaN</td>\n",
       "      <td>30.000000</td>\n",
       "      <td>NaN</td>\n",
       "      <td>NaN</td>\n",
       "      <td>NaN</td>\n",
       "      <td>NaN</td>\n",
       "      <td>NaN</td>\n",
       "      <td>NaN</td>\n",
       "      <td>0.000000</td>\n",
       "      <td>NaN</td>\n",
       "      <td>NaN</td>\n",
       "      <td>NaN</td>\n",
       "      <td>NaN</td>\n",
       "      <td>NaN</td>\n",
       "      <td>NaN</td>\n",
       "      <td>NaN</td>\n",
       "      <td>NaN</td>\n",
       "      <td>0.000000</td>\n",
       "      <td>0.000000</td>\n",
       "      <td>0.000000</td>\n",
       "      <td>0.000000</td>\n",
       "      <td>0.000000</td>\n",
       "    </tr>\n",
       "    <tr>\n",
       "      <th>25%</th>\n",
       "      <td>NaN</td>\n",
       "      <td>NaN</td>\n",
       "      <td>NaN</td>\n",
       "      <td>55.000000</td>\n",
       "      <td>NaN</td>\n",
       "      <td>NaN</td>\n",
       "      <td>NaN</td>\n",
       "      <td>NaN</td>\n",
       "      <td>NaN</td>\n",
       "      <td>NaN</td>\n",
       "      <td>0.000000</td>\n",
       "      <td>NaN</td>\n",
       "      <td>NaN</td>\n",
       "      <td>NaN</td>\n",
       "      <td>NaN</td>\n",
       "      <td>NaN</td>\n",
       "      <td>NaN</td>\n",
       "      <td>NaN</td>\n",
       "      <td>NaN</td>\n",
       "      <td>0.000000</td>\n",
       "      <td>0.000000</td>\n",
       "      <td>0.000000</td>\n",
       "      <td>1.000000</td>\n",
       "      <td>0.000000</td>\n",
       "    </tr>\n",
       "    <tr>\n",
       "      <th>50%</th>\n",
       "      <td>NaN</td>\n",
       "      <td>NaN</td>\n",
       "      <td>NaN</td>\n",
       "      <td>80.000000</td>\n",
       "      <td>NaN</td>\n",
       "      <td>NaN</td>\n",
       "      <td>NaN</td>\n",
       "      <td>NaN</td>\n",
       "      <td>NaN</td>\n",
       "      <td>NaN</td>\n",
       "      <td>0.000000</td>\n",
       "      <td>NaN</td>\n",
       "      <td>NaN</td>\n",
       "      <td>NaN</td>\n",
       "      <td>NaN</td>\n",
       "      <td>NaN</td>\n",
       "      <td>NaN</td>\n",
       "      <td>NaN</td>\n",
       "      <td>NaN</td>\n",
       "      <td>1.000000</td>\n",
       "      <td>0.000000</td>\n",
       "      <td>0.000000</td>\n",
       "      <td>1.000000</td>\n",
       "      <td>1.000000</td>\n",
       "    </tr>\n",
       "    <tr>\n",
       "      <th>75%</th>\n",
       "      <td>NaN</td>\n",
       "      <td>NaN</td>\n",
       "      <td>NaN</td>\n",
       "      <td>80.000000</td>\n",
       "      <td>NaN</td>\n",
       "      <td>NaN</td>\n",
       "      <td>NaN</td>\n",
       "      <td>NaN</td>\n",
       "      <td>NaN</td>\n",
       "      <td>NaN</td>\n",
       "      <td>1.000000</td>\n",
       "      <td>NaN</td>\n",
       "      <td>NaN</td>\n",
       "      <td>NaN</td>\n",
       "      <td>NaN</td>\n",
       "      <td>NaN</td>\n",
       "      <td>NaN</td>\n",
       "      <td>NaN</td>\n",
       "      <td>NaN</td>\n",
       "      <td>1.000000</td>\n",
       "      <td>0.000000</td>\n",
       "      <td>0.000000</td>\n",
       "      <td>1.000000</td>\n",
       "      <td>1.000000</td>\n",
       "    </tr>\n",
       "    <tr>\n",
       "      <th>max</th>\n",
       "      <td>NaN</td>\n",
       "      <td>NaN</td>\n",
       "      <td>NaN</td>\n",
       "      <td>80.000000</td>\n",
       "      <td>NaN</td>\n",
       "      <td>NaN</td>\n",
       "      <td>NaN</td>\n",
       "      <td>NaN</td>\n",
       "      <td>NaN</td>\n",
       "      <td>NaN</td>\n",
       "      <td>1.000000</td>\n",
       "      <td>NaN</td>\n",
       "      <td>NaN</td>\n",
       "      <td>NaN</td>\n",
       "      <td>NaN</td>\n",
       "      <td>NaN</td>\n",
       "      <td>NaN</td>\n",
       "      <td>NaN</td>\n",
       "      <td>NaN</td>\n",
       "      <td>1.000000</td>\n",
       "      <td>1.000000</td>\n",
       "      <td>1.000000</td>\n",
       "      <td>1.000000</td>\n",
       "      <td>1.000000</td>\n",
       "    </tr>\n",
       "  </tbody>\n",
       "</table>\n",
       "</div>"
      ],
      "text/plain": [
       "            destination passanger weather  temperature  time           coupon  \\\n",
       "count              4278      4278    4278  4278.000000  4278             4278   \n",
       "unique                3         4       3          NaN     5                2   \n",
       "top     No Urgent Place     Alone   Sunny          NaN   6PM  Restaurant(<20)   \n",
       "freq               2126      2444    3487          NaN  1136             2786   \n",
       "mean                NaN       NaN     NaN    64.379383   NaN              NaN   \n",
       "std                 NaN       NaN     NaN    19.659406   NaN              NaN   \n",
       "min                 NaN       NaN     NaN    30.000000   NaN              NaN   \n",
       "25%                 NaN       NaN     NaN    55.000000   NaN              NaN   \n",
       "50%                 NaN       NaN     NaN    80.000000   NaN              NaN   \n",
       "75%                 NaN       NaN     NaN    80.000000   NaN              NaN   \n",
       "max                 NaN       NaN     NaN    80.000000   NaN              NaN   \n",
       "\n",
       "       expiration  gender   age    maritalStatus  has_children  \\\n",
       "count        4278    4278  4278             4278   4278.000000   \n",
       "unique          2       2     8                5           NaN   \n",
       "top            1d  Female    21  Married partner           NaN   \n",
       "freq         2310    2175   867             1734           NaN   \n",
       "mean          NaN     NaN   NaN              NaN      0.421225   \n",
       "std           NaN     NaN   NaN              NaN      0.493813   \n",
       "min           NaN     NaN   NaN              NaN      0.000000   \n",
       "25%           NaN     NaN   NaN              NaN      0.000000   \n",
       "50%           NaN     NaN   NaN              NaN      0.000000   \n",
       "75%           NaN     NaN   NaN              NaN      1.000000   \n",
       "max           NaN     NaN   NaN              NaN      1.000000   \n",
       "\n",
       "               education  occupation           income    Bar CoffeeHouse  \\\n",
       "count               4278        4278             4278   4278        4278   \n",
       "unique                 6          25                9      5           5   \n",
       "top     Bachelors degree  Unemployed  $25000 - $37499  never       less1   \n",
       "freq                1469         644              673   1780        1135   \n",
       "mean                 NaN         NaN              NaN    NaN         NaN   \n",
       "std                  NaN         NaN              NaN    NaN         NaN   \n",
       "min                  NaN         NaN              NaN    NaN         NaN   \n",
       "25%                  NaN         NaN              NaN    NaN         NaN   \n",
       "50%                  NaN         NaN              NaN    NaN         NaN   \n",
       "75%                  NaN         NaN              NaN    NaN         NaN   \n",
       "max                  NaN         NaN              NaN    NaN         NaN   \n",
       "\n",
       "       CarryAway RestaurantLessThan20 Restaurant20To50  toCoupon_GEQ15min  \\\n",
       "count       4278                 4278             4278        4278.000000   \n",
       "unique         5                    5                5                NaN   \n",
       "top          1~3                  1~3            less1                NaN   \n",
       "freq        1571                 1800             2068                NaN   \n",
       "mean         NaN                  NaN              NaN           0.512155   \n",
       "std          NaN                  NaN              NaN           0.499911   \n",
       "min          NaN                  NaN              NaN           0.000000   \n",
       "25%          NaN                  NaN              NaN           0.000000   \n",
       "50%          NaN                  NaN              NaN           1.000000   \n",
       "75%          NaN                  NaN              NaN           1.000000   \n",
       "max          NaN                  NaN              NaN           1.000000   \n",
       "\n",
       "        toCoupon_GEQ25min  direction_same  direction_opp            Y  \n",
       "count         4278.000000     4278.000000    4278.000000  4278.000000  \n",
       "unique                NaN             NaN            NaN          NaN  \n",
       "top                   NaN             NaN            NaN          NaN  \n",
       "freq                  NaN             NaN            NaN          NaN  \n",
       "mean             0.099579        0.177419       0.822581     0.614306  \n",
       "std              0.299473        0.382068       0.382068     0.486816  \n",
       "min              0.000000        0.000000       0.000000     0.000000  \n",
       "25%              0.000000        0.000000       1.000000     0.000000  \n",
       "50%              0.000000        0.000000       1.000000     1.000000  \n",
       "75%              0.000000        0.000000       1.000000     1.000000  \n",
       "max              1.000000        1.000000       1.000000     1.000000  "
      ]
     },
     "execution_count": 51,
     "metadata": {},
     "output_type": "execute_result"
    }
   ],
   "source": [
    "rest_coupons.describe(include = \"all\")"
   ]
  },
  {
   "cell_type": "code",
   "execution_count": 52,
   "metadata": {},
   "outputs": [
    {
     "data": {
      "image/png": "[encoded data removed]",
      "text/plain": [
       "<Figure size 432x288 with 1 Axes>"
      ]
     },
     "metadata": {
      "needs_background": "light"
     },
     "output_type": "display_data"
    }
   ],
   "source": [
    "temp = pd.DataFrame(rest_coupons.income.value_counts())\n",
    "plt.bar(temp.index, temp[temp.columns[0]], color =\"pink\")\n",
    " \n",
    "plt.xlabel(\"Weather\")\n",
    "plt.xticks(rotation=45)\n",
    "plt.ylabel(\"Count\")\n",
    "plt.show()"
   ]
  },
  {
   "cell_type": "code",
   "execution_count": 53,
   "metadata": {},
   "outputs": [
    {
     "data": {
      "image/png": "[encoded data removed]",
      "text/plain": [
       "<Figure size 432x288 with 1 Axes>"
      ]
     },
     "metadata": {
      "needs_background": "light"
     },
     "output_type": "display_data"
    }
   ],
   "source": [
    "temp = pd.DataFrame(rest_coupons.Bar.value_counts())\n",
    "plt.bar(temp.index, temp[temp.columns[0]], color =\"yellow\")\n",
    " \n",
    "plt.xlabel(\"Visiting Bar Frequency\")\n",
    "plt.ylabel(\"Count\")\n",
    "plt.show()\n",
    "\n",
    "# drivers who get offer of restaurant coupons are more likely to not visit a bar.\n",
    "# does this situation have a connection with age?"
   ]
  },
  {
   "cell_type": "code",
   "execution_count": 54,
   "metadata": {},
   "outputs": [
    {
     "data": {
      "image/png": "[encoded data removed]",
      "text/plain": [
       "<Figure size 432x288 with 1 Axes>"
      ]
     },
     "metadata": {},
     "output_type": "display_data"
    }
   ],
   "source": [
    "temp = pd.DataFrame(rest_coupons.age.value_counts())\n",
    "plt.pie(temp.age, labels = temp.index, colors = sns.color_palette('bright'), autopct='%.0f%%')\n",
    "plt.show()\n",
    "\n",
    "# yes it has a connection with their age :)\n",
    "# most of the drivers that offered a coupon are 26 and below"
   ]
  },
  {
   "cell_type": "code",
   "execution_count": 55,
   "metadata": {},
   "outputs": [
    {
     "data": {
      "text/plain": [
       "1    0.614306\n",
       "0    0.385694\n",
       "Name: Y, dtype: float64"
      ]
     },
     "execution_count": 55,
     "metadata": {},
     "output_type": "execute_result"
    }
   ],
   "source": [
    "rest_coupons.Y.value_counts() / rest_coupons.shape[0]\n",
    "\n",
    "# restaurant coupons accepted by 61%"
   ]
  },
  {
   "cell_type": "code",
   "execution_count": 56,
   "metadata": {},
   "outputs": [
    {
     "data": {
      "text/plain": [
       "1    0.642745\n",
       "0    0.357255\n",
       "Name: Y, dtype: float64"
      ]
     },
     "execution_count": 56,
     "metadata": {},
     "output_type": "execute_result"
    }
   ],
   "source": [
    "young_rest = rest_coupons[(rest_coupons.age == \"below21\") | (rest_coupons.age == \"21\") | (rest_coupons.age == \"26\")]\n",
    "young_rest.Y.value_counts() / young_rest.shape[0]\n",
    "\n",
    "# younger drivers tend to accept restaurant coupons"
   ]
  },
  {
   "cell_type": "code",
   "execution_count": 57,
   "metadata": {},
   "outputs": [
    {
     "data": {
      "text/plain": [
       "1    0.610112\n",
       "0    0.389888\n",
       "Name: Y, dtype: float64"
      ]
     },
     "execution_count": 57,
     "metadata": {},
     "output_type": "execute_result"
    }
   ],
   "source": [
    "non_bar_visitors = rest_coupons[(rest_coupons.Bar == \"never\") | (rest_coupons.age == \"less1\")]\n",
    "non_bar_visitors.Y.value_counts() / non_bar_visitors.shape[0]\n",
    "\n",
    "# not higher than threshold (61.4%)\n",
    "# so age is more important than not-visiting bar"
   ]
  },
  {
   "cell_type": "code",
   "execution_count": 58,
   "metadata": {},
   "outputs": [
    {
     "data": {
      "text/plain": [
       "1    0.67162\n",
       "0    0.32838\n",
       "Name: Y, dtype: float64"
      ]
     },
     "execution_count": 58,
     "metadata": {},
     "output_type": "execute_result"
    }
   ],
   "source": [
    "low_income = rest_coupons[(rest_coupons.income == \"$25000 - $37499\") | (rest_coupons.age == \"Less than $12500\")  | (rest_coupons.age == \"$37500 - $49999\")]\n",
    "low_income.Y.value_counts() / low_income.shape[0]\n",
    "\n",
    "# drivers with income less than 50K tends more to accept restaurant coupons\n",
    "# maybe its about their job? -- because, students doesnt earn much"
   ]
  },
  {
   "cell_type": "code",
   "execution_count": 59,
   "metadata": {},
   "outputs": [
    {
     "data": {
      "text/plain": [
       "1    0.619962\n",
       "0    0.380038\n",
       "Name: Y, dtype: float64"
      ]
     },
     "execution_count": 59,
     "metadata": {},
     "output_type": "execute_result"
    }
   ],
   "source": [
    "students_rest = rest_coupons[(rest_coupons.occupation == \"Student\")]\n",
    "students_rest.Y.value_counts() / students_rest.shape[0]\n",
    "\n",
    "# students have just a little higher chance to accept restaurant coupons\n",
    "# so, no, it is probably not about being a student"
   ]
  },
  {
   "cell_type": "code",
   "execution_count": 60,
   "metadata": {},
   "outputs": [
    {
     "data": {
      "text/plain": [
       "1    0.615616\n",
       "0    0.384384\n",
       "Name: Y, dtype: float64"
      ]
     },
     "execution_count": 60,
     "metadata": {},
     "output_type": "execute_result"
    }
   ],
   "source": [
    "restaurant_group = rest_coupons[((rest_coupons.income == \"$25000 - $37499\") | (rest_coupons.age == \"Less than $12500\")  | (rest_coupons.age == \"$37500 - $49999\")) & ((rest_coupons.age == \"below21\") | (rest_coupons.age == \"21\") | (rest_coupons.age == \"26\"))]\n",
    "restaurant_group.Y.value_counts() / restaurant_group.shape[0]\n",
    "\n",
    "# just slightly better than the threshold (61.4%)"
   ]
  },
  {
   "cell_type": "code",
   "execution_count": null,
   "metadata": {},
   "outputs": [],
   "source": [
    "\"\"\"\n",
    "my hypothesis for restaurant coupons is that\n",
    "younger drivers wwith income less than 50K have more chance to accept restaurant coupons.\n",
    "\n",
    "\"\"\""
   ]
  }
 ],
 "metadata": {
  "kernelspec": {
   "display_name": "Python 3 (ipykernel)",
   "language": "python",
   "name": "python3"
  },
  "language_info": {
   "codemirror_mode": {
    "name": "ipython",
    "version": 3
   },
   "file_extension": ".py",
   "mimetype": "text/x-python",
   "name": "python",
   "nbconvert_exporter": "python",
   "pygments_lexer": "ipython3",
   "version": "3.9.12"
  },
  "widgets": {
   "application/vnd.jupyter.widget-state+json": {
    "state": {},
    "version_major": 2,
    "version_minor": 0
   }
  }
 },
 "nbformat": 4,
 "nbformat_minor": 4
}
